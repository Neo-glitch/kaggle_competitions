{
  "metadata": {
    "kernelspec": {
      "language": "python",
      "display_name": "Python 3",
      "name": "python3"
    },
    "language_info": {
      "name": "python",
      "version": "3.7.12",
      "mimetype": "text/x-python",
      "codemirror_mode": {
        "name": "ipython",
        "version": 3
      },
      "pygments_lexer": "ipython3",
      "nbconvert_exporter": "python",
      "file_extension": ".py"
    },
    "colab": {
      "provenance": [],
      "include_colab_link": true
    }
  },
  "nbformat_minor": 0,
  "nbformat": 4,
  "cells": [
    {
      "cell_type": "markdown",
      "metadata": {
        "id": "view-in-github",
        "colab_type": "text"
      },
      "source": [
        "<a href=\"https://colab.research.google.com/github/Neo-glitch/kaggle_competitions/blob/main/tabular_series_oct_2022.ipynb\" target=\"_parent\"><img src=\"https://colab.research.google.com/assets/colab-badge.svg\" alt=\"Open In Colab\"/></a>"
      ]
    },
    {
      "cell_type": "code",
      "source": [
        "# This Python 3 environment comes with many helpful analytics libraries installed\n",
        "# It is defined by the kaggle/python Docker image: https://github.com/kaggle/docker-python\n",
        "# For example, here's several helpful packages to load\n",
        "\n",
        "import numpy as np # linear algebra\n",
        "import pandas as pd # data processing, CSV file I/O (e.g. pd.read_csv)\n",
        "\n",
        "# Input data files are available in the read-only \"../input/\" directory\n",
        "# For example, running this (by clicking run or pressing Shift+Enter) will list all files under the input directory\n",
        "\n",
        "import os\n",
        "for dirname, _, filenames in os.walk('/kaggle/input'):\n",
        "    for filename in filenames:\n",
        "        print(os.path.join(dirname, filename))\n",
        "\n",
        "# You can write up to 20GB to the current directory (/kaggle/working/) that gets preserved as output when you create a version using \"Save & Run All\" \n",
        "# You can also write temporary files to /kaggle/temp/, but they won't be saved outside of the current session"
      ],
      "metadata": {
        "_uuid": "8f2839f25d086af736a60e9eeb907d3b93b6e0e5",
        "_cell_guid": "b1076dfc-b9ad-4769-8c92-a6c4dae69d19",
        "execution": {
          "iopub.status.busy": "2022-10-05T00:10:39.025037Z",
          "iopub.execute_input": "2022-10-05T00:10:39.026904Z",
          "iopub.status.idle": "2022-10-05T00:10:39.064379Z",
          "shell.execute_reply.started": "2022-10-05T00:10:39.026792Z",
          "shell.execute_reply": "2022-10-05T00:10:39.063331Z"
        },
        "trusted": true,
        "id": "Hn3BvS4A-tNL",
        "outputId": "1e27df66-1219-4f51-9062-c982be94d83f"
      },
      "execution_count": null,
      "outputs": [
        {
          "name": "stdout",
          "text": "/kaggle/input/tabular-playground-series-oct-2022/sample_submission.csv\n/kaggle/input/tabular-playground-series-oct-2022/train_9.csv\n/kaggle/input/tabular-playground-series-oct-2022/train_3.csv\n/kaggle/input/tabular-playground-series-oct-2022/train_4.csv\n/kaggle/input/tabular-playground-series-oct-2022/test_dtypes.csv\n/kaggle/input/tabular-playground-series-oct-2022/train_8.csv\n/kaggle/input/tabular-playground-series-oct-2022/train_dtypes.csv\n/kaggle/input/tabular-playground-series-oct-2022/train_5.csv\n/kaggle/input/tabular-playground-series-oct-2022/train_2.csv\n/kaggle/input/tabular-playground-series-oct-2022/test.csv\n/kaggle/input/tabular-playground-series-oct-2022/train_0.csv\n/kaggle/input/tabular-playground-series-oct-2022/train_7.csv\n/kaggle/input/tabular-playground-series-oct-2022/train_1.csv\n/kaggle/input/tabular-playground-series-oct-2022/train_6.csv\n/kaggle/input/tpsoct22-feather-files/train_5.feather\n/kaggle/input/tpsoct22-feather-files/test.feather\n/kaggle/input/tpsoct22-feather-files/train_6.feather\n/kaggle/input/tpsoct22-feather-files/train_4.feather\n/kaggle/input/tpsoct22-feather-files/__notebook_source__.ipynb\n/kaggle/input/tpsoct22-feather-files/train_0.feather\n/kaggle/input/tpsoct22-feather-files/train_9.feather\n/kaggle/input/tpsoct22-feather-files/train_2.feather\n/kaggle/input/tpsoct22-feather-files/train_3.feather\n/kaggle/input/tpsoct22-feather-files/train_1.feather\n/kaggle/input/tpsoct22-feather-files/train_7.feather\n/kaggle/input/tpsoct22-feather-files/train_8.feather\n",
          "output_type": "stream"
        }
      ]
    },
    {
      "cell_type": "markdown",
      "source": [
        "**Import needed libraries**"
      ],
      "metadata": {
        "id": "_ch3HwE1-tNQ"
      }
    },
    {
      "cell_type": "code",
      "source": [
        "# we will be working with compressed feather files, thanks to \"ŞAFAK TÜRKELI\"\n",
        "# !pip install dask_ml\n",
        "\n",
        "import gc\n",
        "import numpy as np\n",
        "import pandas as pd\n",
        "import seaborn as sns\n",
        "import matplotlib.pyplot as plt\n",
        "from xgboost import XGBClassifier\n",
        "# from lgbm import LGBMClassifier\n",
        "from sklearn.metrics import roc_auc_score, f1_score\n",
        "from sklearn.model_selection import StratifiedKFold, cross_validate\n",
        "\n",
        "# import dask.dataframe as dd\n",
        "# import dask_ml"
      ],
      "metadata": {
        "execution": {
          "iopub.status.busy": "2022-10-05T01:22:01.526200Z",
          "iopub.execute_input": "2022-10-05T01:22:01.526609Z",
          "iopub.status.idle": "2022-10-05T01:22:02.788516Z",
          "shell.execute_reply.started": "2022-10-05T01:22:01.526525Z",
          "shell.execute_reply": "2022-10-05T01:22:02.787291Z"
        },
        "trusted": true,
        "id": "3BuSUO_F-tNR"
      },
      "execution_count": null,
      "outputs": []
    },
    {
      "cell_type": "markdown",
      "source": [
        "**Load the data**"
      ],
      "metadata": {
        "id": "jwFHA_VQ-tNS"
      }
    },
    {
      "cell_type": "code",
      "source": [
        "# helper function to help optimize our memory by converting numerical col dtypes to min dtype needed for work\n",
        "def optimize_memory_usage(df, show_result = False):\n",
        "    numerics = ['int16', 'int32', 'int64', 'float16', 'float32', 'float64']\n",
        "    start_mem = df.memory_usage().sum() / 1024**2\n",
        "    \n",
        "    for col in df.columns:\n",
        "        col_type = df[col].dtypes\n",
        "        if col_type in numerics:\n",
        "            c_min = df[col].min()\n",
        "            c_max = df[col].max()\n",
        "            \n",
        "            if str(col_type)[:3] == \"int\": \n",
        "                # if col type is int\n",
        "                if c_min > np.iinfo(np.int8).min and c_max < np.iinfo(np.int8).max:\n",
        "                    df[col] = df[col].astype(np.int8)\n",
        "                elif c_min > np.iinfo(np.int16).min and c_max < np.iinfo(np.int16).max:\n",
        "                    df[col] = df[col].astype(np.int16)\n",
        "                elif c_min > np.iinfo(np.int32).min and c_max < np.iinfo(np.int32).max:\n",
        "                    df[col] = df[col].astype(np.int32)\n",
        "                elif c_min > np.iinfo(np.int64).min and c_max < np.iinfo(np.int64).max:\n",
        "                    df[col] = df[col].astype(np.int64)\n",
        "            else :\n",
        "                if c_min > np.finfo(np.float16).min and c_max < np.finfo(np.float16).max:\n",
        "                    df[col] = df[col].astype(np.float16)\n",
        "                elif c_min > np.finfo(np.float32).min and c_max < np.finfo(np.float32).max:\n",
        "                    df[col] = df[col].astype(np.float32)\n",
        "                else:\n",
        "                    df[col] = df[col].astype(np.float64)\n",
        "        else:\n",
        "            df[col] = df[col].astype(\"category\")\n",
        "    \n",
        "    end_mem = df.memory_usage().sum() / 1024**2\n",
        "    \n",
        "    if(show_result):\n",
        "        print(\"Memory usage was optimized from {:5.2f} Mb to {:5.2f}\".format(start_mem, end_mem))\n",
        "    return df"
      ],
      "metadata": {
        "execution": {
          "iopub.status.busy": "2022-10-05T01:22:06.676287Z",
          "iopub.execute_input": "2022-10-05T01:22:06.676847Z",
          "iopub.status.idle": "2022-10-05T01:22:06.711287Z",
          "shell.execute_reply.started": "2022-10-05T01:22:06.676806Z",
          "shell.execute_reply": "2022-10-05T01:22:06.710070Z"
        },
        "trusted": true,
        "id": "sr6CUtwW-tNT"
      },
      "execution_count": null,
      "outputs": []
    },
    {
      "cell_type": "code",
      "source": [
        "train = optimize_memory_usage(pd.read_feather(\"../input/tpsoct22-feather-files/train_0.feather\").sample(frac = 0.21), True)\n",
        "for i in range(1, 10):\n",
        "    train = pd.concat([train, optimize_memory_usage(pd.read_feather(f\"../input/tpsoct22-feather-files/train_{i}.feather\").sample(frac = 0.21), True)])\n",
        "    gc.collect()"
      ],
      "metadata": {
        "execution": {
          "iopub.status.busy": "2022-10-05T01:22:09.165401Z",
          "iopub.execute_input": "2022-10-05T01:22:09.165780Z",
          "iopub.status.idle": "2022-10-05T01:24:16.539256Z",
          "shell.execute_reply.started": "2022-10-05T01:22:09.165733Z",
          "shell.execute_reply": "2022-10-05T01:24:16.538148Z"
        },
        "trusted": true,
        "id": "xxj_XHrS-tNU",
        "outputId": "3bbc32c8-25c5-4427-ae48-f5c4f7578202"
      },
      "execution_count": null,
      "outputs": [
        {
          "name": "stdout",
          "text": "Memory usage was optimized from 213.51 Mb to 55.10\nMemory usage was optimized from 215.43 Mb to 55.60\nMemory usage was optimized from 211.13 Mb to 54.49\nMemory usage was optimized from 210.05 Mb to 54.21\nMemory usage was optimized from 210.37 Mb to 54.29\nMemory usage was optimized from 207.98 Mb to 53.67\nMemory usage was optimized from 205.02 Mb to 52.91\nMemory usage was optimized from 209.56 Mb to 54.08\nMemory usage was optimized from 213.75 Mb to 55.16\nMemory usage was optimized from 208.88 Mb to 53.91\n",
          "output_type": "stream"
        }
      ]
    },
    {
      "cell_type": "code",
      "source": [
        "gc.collect()\n",
        "train.head(3)"
      ],
      "metadata": {
        "execution": {
          "iopub.status.busy": "2022-10-05T01:24:16.541594Z",
          "iopub.execute_input": "2022-10-05T01:24:16.541996Z",
          "iopub.status.idle": "2022-10-05T01:24:16.686710Z",
          "shell.execute_reply.started": "2022-10-05T01:24:16.541955Z",
          "shell.execute_reply": "2022-10-05T01:24:16.685566Z"
        },
        "trusted": true,
        "id": "0MoAmPlE-tNU",
        "outputId": "4921988d-cfc6-489b-bb7c-04177320d643"
      },
      "execution_count": null,
      "outputs": [
        {
          "execution_count": 4,
          "output_type": "execute_result",
          "data": {
            "text/plain": "         game_num  event_id  event_time  ball_pos_x  ball_pos_y  ball_pos_z  \\\n1861979       638    638006  -64.500000  -65.312500   20.140625   27.265625   \n1088030       369    369008 -113.750000   52.875000  -99.000000    5.695312   \n1300769       442    442003   -3.738281  -30.671875  -87.375000    6.949219   \n\n         ball_vel_x  ball_vel_y  ball_vel_z  p0_pos_x  ...  boost0_timer  \\\n1861979  -34.218750  -15.453125  -18.421875  -64.7500  ...     -4.332031   \n1088030   10.101562   30.953125    5.113281   68.5625  ...     -0.148560   \n1300769   43.375000  -53.093750    0.156372  -23.6875  ...     -1.824219   \n\n         boost1_timer  boost2_timer  boost3_timer  boost4_timer  boost5_timer  \\\n1861979           0.0     -6.296875     -6.597656     -7.332031     -4.332031   \n1088030           0.0      0.000000     -1.348633     -9.335938     -8.867188   \n1300769           0.0     -9.664062      0.000000      0.000000      0.000000   \n\n         player_scoring_next  team_scoring_next  team_A_scoring_within_10sec  \\\n1861979                   -1                NaN                            0   \n1088030                    0                  A                            0   \n1300769                    4                  B                            0   \n\n         team_B_scoring_within_10sec  \n1861979                            0  \n1088030                            0  \n1300769                            1  \n\n[3 rows x 61 columns]",
            "text/html": "<div>\n<style scoped>\n    .dataframe tbody tr th:only-of-type {\n        vertical-align: middle;\n    }\n\n    .dataframe tbody tr th {\n        vertical-align: top;\n    }\n\n    .dataframe thead th {\n        text-align: right;\n    }\n</style>\n<table border=\"1\" class=\"dataframe\">\n  <thead>\n    <tr style=\"text-align: right;\">\n      <th></th>\n      <th>game_num</th>\n      <th>event_id</th>\n      <th>event_time</th>\n      <th>ball_pos_x</th>\n      <th>ball_pos_y</th>\n      <th>ball_pos_z</th>\n      <th>ball_vel_x</th>\n      <th>ball_vel_y</th>\n      <th>ball_vel_z</th>\n      <th>p0_pos_x</th>\n      <th>...</th>\n      <th>boost0_timer</th>\n      <th>boost1_timer</th>\n      <th>boost2_timer</th>\n      <th>boost3_timer</th>\n      <th>boost4_timer</th>\n      <th>boost5_timer</th>\n      <th>player_scoring_next</th>\n      <th>team_scoring_next</th>\n      <th>team_A_scoring_within_10sec</th>\n      <th>team_B_scoring_within_10sec</th>\n    </tr>\n  </thead>\n  <tbody>\n    <tr>\n      <th>1861979</th>\n      <td>638</td>\n      <td>638006</td>\n      <td>-64.500000</td>\n      <td>-65.312500</td>\n      <td>20.140625</td>\n      <td>27.265625</td>\n      <td>-34.218750</td>\n      <td>-15.453125</td>\n      <td>-18.421875</td>\n      <td>-64.7500</td>\n      <td>...</td>\n      <td>-4.332031</td>\n      <td>0.0</td>\n      <td>-6.296875</td>\n      <td>-6.597656</td>\n      <td>-7.332031</td>\n      <td>-4.332031</td>\n      <td>-1</td>\n      <td>NaN</td>\n      <td>0</td>\n      <td>0</td>\n    </tr>\n    <tr>\n      <th>1088030</th>\n      <td>369</td>\n      <td>369008</td>\n      <td>-113.750000</td>\n      <td>52.875000</td>\n      <td>-99.000000</td>\n      <td>5.695312</td>\n      <td>10.101562</td>\n      <td>30.953125</td>\n      <td>5.113281</td>\n      <td>68.5625</td>\n      <td>...</td>\n      <td>-0.148560</td>\n      <td>0.0</td>\n      <td>0.000000</td>\n      <td>-1.348633</td>\n      <td>-9.335938</td>\n      <td>-8.867188</td>\n      <td>0</td>\n      <td>A</td>\n      <td>0</td>\n      <td>0</td>\n    </tr>\n    <tr>\n      <th>1300769</th>\n      <td>442</td>\n      <td>442003</td>\n      <td>-3.738281</td>\n      <td>-30.671875</td>\n      <td>-87.375000</td>\n      <td>6.949219</td>\n      <td>43.375000</td>\n      <td>-53.093750</td>\n      <td>0.156372</td>\n      <td>-23.6875</td>\n      <td>...</td>\n      <td>-1.824219</td>\n      <td>0.0</td>\n      <td>-9.664062</td>\n      <td>0.000000</td>\n      <td>0.000000</td>\n      <td>0.000000</td>\n      <td>4</td>\n      <td>B</td>\n      <td>0</td>\n      <td>1</td>\n    </tr>\n  </tbody>\n</table>\n<p>3 rows × 61 columns</p>\n</div>"
          },
          "metadata": {}
        }
      ]
    },
    {
      "cell_type": "markdown",
      "source": [
        "**Done Loading Data now time for Quick EDA(could later load just a small portion of data and do proper EDA)**"
      ],
      "metadata": {
        "id": "dKKHv4wd-tNV"
      }
    },
    {
      "cell_type": "markdown",
      "source": [
        "from data we saw that `game_num`, `event_id`, `event_time`, `player_scoring_next`, `team_scoring_next` where just in train data and not in test.\n",
        "also this are not part of our label, so drop them and help save us space\n"
      ],
      "metadata": {
        "id": "OSyTxgTe-tNV"
      }
    },
    {
      "cell_type": "code",
      "source": [
        "train = train.drop(columns = [\"game_num\", 'event_id', 'event_time', 'player_scoring_next', 'team_scoring_next'])\n",
        "\n",
        "gc.collect()"
      ],
      "metadata": {
        "execution": {
          "iopub.status.busy": "2022-10-05T01:24:16.688244Z",
          "iopub.execute_input": "2022-10-05T01:24:16.690067Z",
          "iopub.status.idle": "2022-10-05T01:24:17.963342Z",
          "shell.execute_reply.started": "2022-10-05T01:24:16.690018Z",
          "shell.execute_reply": "2022-10-05T01:24:17.962252Z"
        },
        "trusted": true,
        "id": "6nC7J-jb-tNW",
        "outputId": "eddb53cd-0356-4bb9-fa8a-f074034e9ace"
      },
      "execution_count": null,
      "outputs": [
        {
          "execution_count": 5,
          "output_type": "execute_result",
          "data": {
            "text/plain": "0"
          },
          "metadata": {}
        }
      ]
    },
    {
      "cell_type": "code",
      "source": [
        "train.head()"
      ],
      "metadata": {
        "execution": {
          "iopub.status.busy": "2022-10-05T01:24:17.966284Z",
          "iopub.execute_input": "2022-10-05T01:24:17.967202Z",
          "iopub.status.idle": "2022-10-05T01:24:17.997962Z",
          "shell.execute_reply.started": "2022-10-05T01:24:17.967158Z",
          "shell.execute_reply": "2022-10-05T01:24:17.996774Z"
        },
        "trusted": true,
        "id": "X4jIxZLN-tNW",
        "outputId": "4a080cdd-2508-4641-bfa9-3f8506234685"
      },
      "execution_count": null,
      "outputs": [
        {
          "execution_count": 6,
          "output_type": "execute_result",
          "data": {
            "text/plain": "         ball_pos_x  ball_pos_y  ball_pos_z  ball_vel_x  ball_vel_y  \\\n1861979  -65.312500   20.140625   27.265625  -34.218750  -15.453125   \n1088030   52.875000  -99.000000    5.695312   10.101562   30.953125   \n1300769  -30.671875  -87.375000    6.949219   43.375000  -53.093750   \n645306   -78.625000  -27.125000   29.890625  -17.234375  -40.843750   \n48734     55.187500  -15.125000   26.687500   21.468750  -29.312500   \n\n         ball_vel_z   p0_pos_x    p0_pos_y  p0_pos_z   p0_vel_x  ...  \\\n1861979  -18.421875 -64.750000  -38.281250  0.340332   8.742188  ...   \n1088030    5.113281  68.562500  -63.812500  0.340088 -11.640625  ...   \n1300769    0.156372 -23.687500 -102.000000  3.023438  21.484375  ...   \n645306    12.046875  10.359375  -81.500000  0.340088 -23.390625  ...   \n48734      7.582031  -7.910156   31.890625  2.294922 -42.312500  ...   \n\n         p5_vel_z   p5_boost  boost0_timer  boost1_timer  boost2_timer  \\\n1861979 -0.317139  12.156250     -4.332031      0.000000     -6.296875   \n1088030  0.005199  88.062500     -0.148560      0.000000      0.000000   \n1300769 -0.314941  11.375000     -1.824219      0.000000     -9.664062   \n645306   0.294189   0.000000     -6.265625      0.000000     -3.554688   \n48734   -2.271484  27.421875      0.000000     -7.128906      0.000000   \n\n         boost3_timer  boost4_timer  boost5_timer  \\\n1861979     -6.597656     -7.332031     -4.332031   \n1088030     -1.348633     -9.335938     -8.867188   \n1300769      0.000000      0.000000      0.000000   \n645306      -3.318359     -3.925781      0.000000   \n48734       -1.858398      0.000000     -3.025391   \n\n         team_A_scoring_within_10sec  team_B_scoring_within_10sec  \n1861979                            0                            0  \n1088030                            0                            0  \n1300769                            0                            1  \n645306                             0                            0  \n48734                              0                            0  \n\n[5 rows x 56 columns]",
            "text/html": "<div>\n<style scoped>\n    .dataframe tbody tr th:only-of-type {\n        vertical-align: middle;\n    }\n\n    .dataframe tbody tr th {\n        vertical-align: top;\n    }\n\n    .dataframe thead th {\n        text-align: right;\n    }\n</style>\n<table border=\"1\" class=\"dataframe\">\n  <thead>\n    <tr style=\"text-align: right;\">\n      <th></th>\n      <th>ball_pos_x</th>\n      <th>ball_pos_y</th>\n      <th>ball_pos_z</th>\n      <th>ball_vel_x</th>\n      <th>ball_vel_y</th>\n      <th>ball_vel_z</th>\n      <th>p0_pos_x</th>\n      <th>p0_pos_y</th>\n      <th>p0_pos_z</th>\n      <th>p0_vel_x</th>\n      <th>...</th>\n      <th>p5_vel_z</th>\n      <th>p5_boost</th>\n      <th>boost0_timer</th>\n      <th>boost1_timer</th>\n      <th>boost2_timer</th>\n      <th>boost3_timer</th>\n      <th>boost4_timer</th>\n      <th>boost5_timer</th>\n      <th>team_A_scoring_within_10sec</th>\n      <th>team_B_scoring_within_10sec</th>\n    </tr>\n  </thead>\n  <tbody>\n    <tr>\n      <th>1861979</th>\n      <td>-65.312500</td>\n      <td>20.140625</td>\n      <td>27.265625</td>\n      <td>-34.218750</td>\n      <td>-15.453125</td>\n      <td>-18.421875</td>\n      <td>-64.750000</td>\n      <td>-38.281250</td>\n      <td>0.340332</td>\n      <td>8.742188</td>\n      <td>...</td>\n      <td>-0.317139</td>\n      <td>12.156250</td>\n      <td>-4.332031</td>\n      <td>0.000000</td>\n      <td>-6.296875</td>\n      <td>-6.597656</td>\n      <td>-7.332031</td>\n      <td>-4.332031</td>\n      <td>0</td>\n      <td>0</td>\n    </tr>\n    <tr>\n      <th>1088030</th>\n      <td>52.875000</td>\n      <td>-99.000000</td>\n      <td>5.695312</td>\n      <td>10.101562</td>\n      <td>30.953125</td>\n      <td>5.113281</td>\n      <td>68.562500</td>\n      <td>-63.812500</td>\n      <td>0.340088</td>\n      <td>-11.640625</td>\n      <td>...</td>\n      <td>0.005199</td>\n      <td>88.062500</td>\n      <td>-0.148560</td>\n      <td>0.000000</td>\n      <td>0.000000</td>\n      <td>-1.348633</td>\n      <td>-9.335938</td>\n      <td>-8.867188</td>\n      <td>0</td>\n      <td>0</td>\n    </tr>\n    <tr>\n      <th>1300769</th>\n      <td>-30.671875</td>\n      <td>-87.375000</td>\n      <td>6.949219</td>\n      <td>43.375000</td>\n      <td>-53.093750</td>\n      <td>0.156372</td>\n      <td>-23.687500</td>\n      <td>-102.000000</td>\n      <td>3.023438</td>\n      <td>21.484375</td>\n      <td>...</td>\n      <td>-0.314941</td>\n      <td>11.375000</td>\n      <td>-1.824219</td>\n      <td>0.000000</td>\n      <td>-9.664062</td>\n      <td>0.000000</td>\n      <td>0.000000</td>\n      <td>0.000000</td>\n      <td>0</td>\n      <td>1</td>\n    </tr>\n    <tr>\n      <th>645306</th>\n      <td>-78.625000</td>\n      <td>-27.125000</td>\n      <td>29.890625</td>\n      <td>-17.234375</td>\n      <td>-40.843750</td>\n      <td>12.046875</td>\n      <td>10.359375</td>\n      <td>-81.500000</td>\n      <td>0.340088</td>\n      <td>-23.390625</td>\n      <td>...</td>\n      <td>0.294189</td>\n      <td>0.000000</td>\n      <td>-6.265625</td>\n      <td>0.000000</td>\n      <td>-3.554688</td>\n      <td>-3.318359</td>\n      <td>-3.925781</td>\n      <td>0.000000</td>\n      <td>0</td>\n      <td>0</td>\n    </tr>\n    <tr>\n      <th>48734</th>\n      <td>55.187500</td>\n      <td>-15.125000</td>\n      <td>26.687500</td>\n      <td>21.468750</td>\n      <td>-29.312500</td>\n      <td>7.582031</td>\n      <td>-7.910156</td>\n      <td>31.890625</td>\n      <td>2.294922</td>\n      <td>-42.312500</td>\n      <td>...</td>\n      <td>-2.271484</td>\n      <td>27.421875</td>\n      <td>0.000000</td>\n      <td>-7.128906</td>\n      <td>0.000000</td>\n      <td>-1.858398</td>\n      <td>0.000000</td>\n      <td>-3.025391</td>\n      <td>0</td>\n      <td>0</td>\n    </tr>\n  </tbody>\n</table>\n<p>5 rows × 56 columns</p>\n</div>"
          },
          "metadata": {}
        }
      ]
    },
    {
      "cell_type": "code",
      "source": [
        "# find is any nan rows(will be replaced later)\n",
        "# all p columns are nan when player is demolished or will respawn soon\n",
        "# train_df.isnull().sum().compute()\n",
        "\n",
        "train.isnull().sum()"
      ],
      "metadata": {
        "execution": {
          "iopub.status.busy": "2022-10-05T01:24:17.999593Z",
          "iopub.execute_input": "2022-10-05T01:24:18.000283Z",
          "iopub.status.idle": "2022-10-05T01:24:19.153600Z",
          "shell.execute_reply.started": "2022-10-05T01:24:18.000238Z",
          "shell.execute_reply": "2022-10-05T01:24:19.152547Z"
        },
        "trusted": true,
        "id": "KdZE3Q0r-tNX",
        "outputId": "424604c2-ba05-48b9-8b3b-0c82e73054cb"
      },
      "execution_count": null,
      "outputs": [
        {
          "execution_count": 7,
          "output_type": "execute_result",
          "data": {
            "text/plain": "ball_pos_x                         0\nball_pos_y                         0\nball_pos_z                         0\nball_vel_x                         0\nball_vel_y                         0\nball_vel_z                         0\np0_pos_x                       39478\np0_pos_y                       39478\np0_pos_z                       39478\np0_vel_x                       39478\np0_vel_y                       39478\np0_vel_z                       39478\np0_boost                       39478\np1_pos_x                       39784\np1_pos_y                       39784\np1_pos_z                       39784\np1_vel_x                       39784\np1_vel_y                       39784\np1_vel_z                       39784\np1_boost                       39784\np2_pos_x                       39729\np2_pos_y                       39729\np2_pos_z                       39729\np2_vel_x                       39729\np2_vel_y                       39729\np2_vel_z                       39729\np2_boost                       39729\np3_pos_x                       41073\np3_pos_y                       41073\np3_pos_z                       41073\np3_vel_x                       41073\np3_vel_y                       41073\np3_vel_z                       41073\np3_boost                       41073\np4_pos_x                       41284\np4_pos_y                       41284\np4_pos_z                       41284\np4_vel_x                       41284\np4_vel_y                       41284\np4_vel_z                       41284\np4_boost                       41284\np5_pos_x                       40416\np5_pos_y                       40416\np5_pos_z                       40416\np5_vel_x                       40416\np5_vel_y                       40416\np5_vel_z                       40416\np5_boost                       40416\nboost0_timer                       0\nboost1_timer                       0\nboost2_timer                       0\nboost3_timer                       0\nboost4_timer                       0\nboost5_timer                       0\nteam_A_scoring_within_10sec        0\nteam_B_scoring_within_10sec        0\ndtype: int64"
          },
          "metadata": {}
        }
      ]
    },
    {
      "cell_type": "code",
      "source": [
        "# function to fillNan values with 0 since player is dead or will soon respawn\n",
        "def fill_null(df):\n",
        "#     cols = [\n",
        "#     \"p0_pos_x\",\"p1_pos_x\",\"p2_pos_x\",\"p3_pos_x\",\"p4_pos_x\",\"p5_pos_x\",\n",
        "#     \"p0_pos_y\",\"p1_pos_y\",\"p2_pos_y\",\"p3_pos_y\",\"p4_pos_y\",\"p5_pos_y\",\n",
        "#     \"p0_pos_z\",\"p1_pos_z\",\"p2_pos_z\",\"p3_pos_z\",\"p4_pos_z\",\"p5_pos_z\",\n",
        "    \n",
        "#     \"p0_vel_x\",\"p1_vel_x\",\"p2_vel_x\",\"p3_vel_x\",\"p4_vel_x\",\"p5_vel_x\",\n",
        "#     \"p0_vel_y\",\"p1_vel_y\",\"p2_vel_y\",\"p3_vel_y\",\"p4_vel_y\",\"p5_vel_y\",\n",
        "#     \"p0_vel_z\",\"p1_vel_z\",\"p2_vel_z\",\"p3_vel_z\",\"p4_vel_z\",\"p5_vel_z\",\n",
        "    \n",
        "#     'p0_boost','p1_boost','p2_boost','p3_boost','p4_boost','p5_boost'\n",
        "#     ]\n",
        "    \n",
        "#     for col in cols:\n",
        "#         df[col] = df[col].fillna(0)\n",
        "    \n",
        "    # rather than filling nan rows with constant value of 0\n",
        "    # lets drop it as it helps to also save us memory\n",
        "    df = df.dropna()\n",
        "    \n",
        "#     del cols\n",
        "    gc.collect()\n",
        "   \n",
        "    return df\n",
        "\n",
        "gc.collect()"
      ],
      "metadata": {
        "execution": {
          "iopub.status.busy": "2022-10-04T23:23:59.707494Z",
          "iopub.execute_input": "2022-10-04T23:23:59.708476Z",
          "iopub.status.idle": "2022-10-04T23:23:59.857885Z",
          "shell.execute_reply.started": "2022-10-04T23:23:59.708421Z",
          "shell.execute_reply": "2022-10-04T23:23:59.856637Z"
        },
        "trusted": true,
        "id": "SOntU3W8-tNX",
        "outputId": "16e910b9-65ee-4007-98bf-949f3d07c080"
      },
      "execution_count": null,
      "outputs": [
        {
          "execution_count": 7,
          "output_type": "execute_result",
          "data": {
            "text/plain": "46"
          },
          "metadata": {}
        }
      ]
    },
    {
      "cell_type": "code",
      "source": [
        "train = train.dropna()\n",
        "gc.collect()"
      ],
      "metadata": {
        "execution": {
          "iopub.status.busy": "2022-10-05T01:24:19.158600Z",
          "iopub.execute_input": "2022-10-05T01:24:19.161280Z",
          "iopub.status.idle": "2022-10-05T01:24:22.383820Z",
          "shell.execute_reply.started": "2022-10-05T01:24:19.161233Z",
          "shell.execute_reply": "2022-10-05T01:24:22.382748Z"
        },
        "trusted": true,
        "id": "10KrGYXy-tNX",
        "outputId": "92ea6670-8b39-4eab-e033-88f91ee402ea"
      },
      "execution_count": null,
      "outputs": [
        {
          "execution_count": 8,
          "output_type": "execute_result",
          "data": {
            "text/plain": "13"
          },
          "metadata": {}
        }
      ]
    },
    {
      "cell_type": "code",
      "source": [
        "train.isnull().sum()"
      ],
      "metadata": {
        "execution": {
          "iopub.status.busy": "2022-10-05T01:24:22.385517Z",
          "iopub.execute_input": "2022-10-05T01:24:22.385982Z",
          "iopub.status.idle": "2022-10-05T01:24:23.194561Z",
          "shell.execute_reply.started": "2022-10-05T01:24:22.385939Z",
          "shell.execute_reply": "2022-10-05T01:24:23.193548Z"
        },
        "trusted": true,
        "id": "GYXdDy99-tNY",
        "outputId": "d7af5793-a928-47a2-bf5e-07f3ec4a9340"
      },
      "execution_count": null,
      "outputs": [
        {
          "execution_count": 9,
          "output_type": "execute_result",
          "data": {
            "text/plain": "ball_pos_x                     0\nball_pos_y                     0\nball_pos_z                     0\nball_vel_x                     0\nball_vel_y                     0\nball_vel_z                     0\np0_pos_x                       0\np0_pos_y                       0\np0_pos_z                       0\np0_vel_x                       0\np0_vel_y                       0\np0_vel_z                       0\np0_boost                       0\np1_pos_x                       0\np1_pos_y                       0\np1_pos_z                       0\np1_vel_x                       0\np1_vel_y                       0\np1_vel_z                       0\np1_boost                       0\np2_pos_x                       0\np2_pos_y                       0\np2_pos_z                       0\np2_vel_x                       0\np2_vel_y                       0\np2_vel_z                       0\np2_boost                       0\np3_pos_x                       0\np3_pos_y                       0\np3_pos_z                       0\np3_vel_x                       0\np3_vel_y                       0\np3_vel_z                       0\np3_boost                       0\np4_pos_x                       0\np4_pos_y                       0\np4_pos_z                       0\np4_vel_x                       0\np4_vel_y                       0\np4_vel_z                       0\np4_boost                       0\np5_pos_x                       0\np5_pos_y                       0\np5_pos_z                       0\np5_vel_x                       0\np5_vel_y                       0\np5_vel_z                       0\np5_boost                       0\nboost0_timer                   0\nboost1_timer                   0\nboost2_timer                   0\nboost3_timer                   0\nboost4_timer                   0\nboost5_timer                   0\nteam_A_scoring_within_10sec    0\nteam_B_scoring_within_10sec    0\ndtype: int64"
          },
          "metadata": {}
        }
      ]
    },
    {
      "cell_type": "code",
      "source": [
        "gc.collect()\n",
        "train.info()"
      ],
      "metadata": {
        "execution": {
          "iopub.status.busy": "2022-10-05T01:24:23.196301Z",
          "iopub.execute_input": "2022-10-05T01:24:23.197022Z",
          "iopub.status.idle": "2022-10-05T01:24:23.326549Z",
          "shell.execute_reply.started": "2022-10-05T01:24:23.196971Z",
          "shell.execute_reply": "2022-10-05T01:24:23.325089Z"
        },
        "trusted": true,
        "id": "4khKBwuG-tNY",
        "outputId": "b3b09052-3c6a-41e3-a9cb-98f1bad78f86"
      },
      "execution_count": null,
      "outputs": [
        {
          "name": "stdout",
          "text": "<class 'pandas.core.frame.DataFrame'>\nInt64Index: 4218865 entries, 1861979 to 2053613\nData columns (total 56 columns):\n #   Column                       Dtype  \n---  ------                       -----  \n 0   ball_pos_x                   float16\n 1   ball_pos_y                   float16\n 2   ball_pos_z                   float16\n 3   ball_vel_x                   float16\n 4   ball_vel_y                   float16\n 5   ball_vel_z                   float16\n 6   p0_pos_x                     float16\n 7   p0_pos_y                     float16\n 8   p0_pos_z                     float16\n 9   p0_vel_x                     float16\n 10  p0_vel_y                     float16\n 11  p0_vel_z                     float16\n 12  p0_boost                     float16\n 13  p1_pos_x                     float16\n 14  p1_pos_y                     float16\n 15  p1_pos_z                     float16\n 16  p1_vel_x                     float16\n 17  p1_vel_y                     float16\n 18  p1_vel_z                     float16\n 19  p1_boost                     float16\n 20  p2_pos_x                     float16\n 21  p2_pos_y                     float16\n 22  p2_pos_z                     float16\n 23  p2_vel_x                     float16\n 24  p2_vel_y                     float16\n 25  p2_vel_z                     float16\n 26  p2_boost                     float16\n 27  p3_pos_x                     float16\n 28  p3_pos_y                     float16\n 29  p3_pos_z                     float16\n 30  p3_vel_x                     float16\n 31  p3_vel_y                     float16\n 32  p3_vel_z                     float16\n 33  p3_boost                     float16\n 34  p4_pos_x                     float16\n 35  p4_pos_y                     float16\n 36  p4_pos_z                     float16\n 37  p4_vel_x                     float16\n 38  p4_vel_y                     float16\n 39  p4_vel_z                     float16\n 40  p4_boost                     float16\n 41  p5_pos_x                     float16\n 42  p5_pos_y                     float16\n 43  p5_pos_z                     float16\n 44  p5_vel_x                     float16\n 45  p5_vel_y                     float16\n 46  p5_vel_z                     float16\n 47  p5_boost                     float16\n 48  boost0_timer                 float16\n 49  boost1_timer                 float16\n 50  boost2_timer                 float16\n 51  boost3_timer                 float16\n 52  boost4_timer                 float16\n 53  boost5_timer                 float16\n 54  team_A_scoring_within_10sec  int8   \n 55  team_B_scoring_within_10sec  int8   \ndtypes: float16(54), int8(2)\nmemory usage: 474.8 MB\n",
          "output_type": "stream"
        }
      ]
    },
    {
      "cell_type": "code",
      "source": [
        "# seems to have a normal distribution, same thing for vel_y and vel_z\n",
        "train[\"ball_vel_x\"].sample(frac = 0.0005).plot(kind=\"kde\")"
      ],
      "metadata": {
        "execution": {
          "iopub.status.busy": "2022-10-04T23:12:52.100106Z",
          "iopub.execute_input": "2022-10-04T23:12:52.100524Z",
          "iopub.status.idle": "2022-10-04T23:12:52.811316Z",
          "shell.execute_reply.started": "2022-10-04T23:12:52.100489Z",
          "shell.execute_reply": "2022-10-04T23:12:52.810391Z"
        },
        "trusted": true,
        "id": "mPCbC5sD-tNZ",
        "outputId": "55de0224-93cb-4af5-f23e-b162657b1f9d"
      },
      "execution_count": null,
      "outputs": [
        {
          "execution_count": 12,
          "output_type": "execute_result",
          "data": {
            "text/plain": "<AxesSubplot:ylabel='Density'>"
          },
          "metadata": {}
        },
        {
          "output_type": "display_data",
          "data": {
            "text/plain": "<Figure size 432x288 with 1 Axes>",
            "image/png": "[encoded data removed]"
          },
          "metadata": {
            "needs_background": "light"
          }
        }
      ]
    },
    {
      "cell_type": "code",
      "source": [
        "# similar distribution for all boost_timer cols\n",
        "train[\"boost1_timer\"].sample(frac = 0.0005).plot(kind=\"kde\")"
      ],
      "metadata": {
        "execution": {
          "iopub.status.busy": "2022-10-04T23:12:52.813721Z",
          "iopub.execute_input": "2022-10-04T23:12:52.814528Z",
          "iopub.status.idle": "2022-10-04T23:12:53.459317Z",
          "shell.execute_reply.started": "2022-10-04T23:12:52.814486Z",
          "shell.execute_reply": "2022-10-04T23:12:53.458294Z"
        },
        "trusted": true,
        "id": "RNsJCEPy-tNZ",
        "outputId": "3ee29f21-3065-4311-8f3b-7800712e5363"
      },
      "execution_count": null,
      "outputs": [
        {
          "execution_count": 13,
          "output_type": "execute_result",
          "data": {
            "text/plain": "<AxesSubplot:ylabel='Density'>"
          },
          "metadata": {}
        },
        {
          "output_type": "display_data",
          "data": {
            "text/plain": "<Figure size 432x288 with 1 Axes>",
            "image/png": "[encoded data removed]"
          },
          "metadata": {
            "needs_background": "light"
          }
        }
      ]
    },
    {
      "cell_type": "code",
      "source": [
        "# seen that chance of scoring is less than chance of not scoring. which is quite normal\n",
        "sns.countplot(train[\"team_A_scoring_within_10sec\"].sample(frac = 0.0005))"
      ],
      "metadata": {
        "execution": {
          "iopub.status.busy": "2022-10-04T22:30:36.472463Z",
          "iopub.execute_input": "2022-10-04T22:30:36.472863Z",
          "iopub.status.idle": "2022-10-04T22:30:37.158410Z",
          "shell.execute_reply.started": "2022-10-04T22:30:36.472832Z",
          "shell.execute_reply": "2022-10-04T22:30:37.157121Z"
        },
        "trusted": true,
        "id": "oUVxihcz-tNa",
        "outputId": "132ab818-8ef4-4502-a7ae-38eb18f52734"
      },
      "execution_count": null,
      "outputs": [
        {
          "name": "stderr",
          "text": "/opt/conda/lib/python3.7/site-packages/seaborn/_decorators.py:43: FutureWarning: Pass the following variable as a keyword arg: x. From version 0.12, the only valid positional argument will be `data`, and passing other arguments without an explicit keyword will result in an error or misinterpretation.\n  FutureWarning\n",
          "output_type": "stream"
        },
        {
          "execution_count": 25,
          "output_type": "execute_result",
          "data": {
            "text/plain": "<AxesSubplot:xlabel='team_A_scoring_within_10sec', ylabel='count'>"
          },
          "metadata": {}
        },
        {
          "output_type": "display_data",
          "data": {
            "text/plain": "<Figure size 432x288 with 1 Axes>",
            "image/png": "[encoded data removed]"
          },
          "metadata": {
            "needs_background": "light"
          }
        }
      ]
    },
    {
      "cell_type": "code",
      "source": [
        "# seen that chance of scoring is less than chance of not scoring. which is quite normal\n",
        "sns.countplot(train[\"team_B_scoring_within_10sec\"].sample(frac = 0.0005))"
      ],
      "metadata": {
        "execution": {
          "iopub.status.busy": "2022-10-04T22:32:41.920796Z",
          "iopub.execute_input": "2022-10-04T22:32:41.921238Z",
          "iopub.status.idle": "2022-10-04T22:32:42.607844Z",
          "shell.execute_reply.started": "2022-10-04T22:32:41.921203Z",
          "shell.execute_reply": "2022-10-04T22:32:42.606452Z"
        },
        "trusted": true,
        "id": "v70vJFhI-tNa",
        "outputId": "8afc693f-944e-4118-cb6a-1ceac3166a01"
      },
      "execution_count": null,
      "outputs": [
        {
          "name": "stderr",
          "text": "/opt/conda/lib/python3.7/site-packages/seaborn/_decorators.py:43: FutureWarning: Pass the following variable as a keyword arg: x. From version 0.12, the only valid positional argument will be `data`, and passing other arguments without an explicit keyword will result in an error or misinterpretation.\n  FutureWarning\n",
          "output_type": "stream"
        },
        {
          "execution_count": 27,
          "output_type": "execute_result",
          "data": {
            "text/plain": "<AxesSubplot:xlabel='team_B_scoring_within_10sec', ylabel='count'>"
          },
          "metadata": {}
        },
        {
          "output_type": "display_data",
          "data": {
            "text/plain": "<Figure size 432x288 with 1 Axes>",
            "image/png": "[encoded data removed]"
          },
          "metadata": {
            "needs_background": "light"
          }
        }
      ]
    },
    {
      "cell_type": "code",
      "source": [
        "plt.figure(figsize = (10, 10))\n",
        "sns.heatmap(train.sample(frac = 0.0005).corr(), cmap =\"YlGnBu\")"
      ],
      "metadata": {
        "execution": {
          "iopub.status.busy": "2022-10-04T22:34:44.843671Z",
          "iopub.execute_input": "2022-10-04T22:34:44.844123Z",
          "iopub.status.idle": "2022-10-04T22:34:46.209281Z",
          "shell.execute_reply.started": "2022-10-04T22:34:44.844087Z",
          "shell.execute_reply": "2022-10-04T22:34:46.208116Z"
        },
        "trusted": true,
        "id": "SEObQ2iH-tNa",
        "outputId": "a6cfda43-bfab-489f-eb83-b2d365e4cfb6"
      },
      "execution_count": null,
      "outputs": [
        {
          "execution_count": 31,
          "output_type": "execute_result",
          "data": {
            "text/plain": "<AxesSubplot:>"
          },
          "metadata": {}
        },
        {
          "output_type": "display_data",
          "data": {
            "text/plain": "<Figure size 720x720 with 2 Axes>",
            "image/png": "[encoded data removed]"
          },
          "metadata": {
            "needs_background": "light"
          }
        }
      ]
    },
    {
      "cell_type": "code",
      "source": [
        "train.head()"
      ],
      "metadata": {
        "execution": {
          "iopub.status.busy": "2022-10-05T00:12:37.836282Z",
          "iopub.execute_input": "2022-10-05T00:12:37.836750Z",
          "iopub.status.idle": "2022-10-05T00:12:37.874246Z",
          "shell.execute_reply.started": "2022-10-05T00:12:37.836710Z",
          "shell.execute_reply": "2022-10-05T00:12:37.873321Z"
        },
        "trusted": true,
        "id": "rtqR88Gk-tNb",
        "outputId": "ec7f7d61-e8ac-45bd-8918-55e622de8120"
      },
      "execution_count": null,
      "outputs": [
        {
          "execution_count": 10,
          "output_type": "execute_result",
          "data": {
            "text/plain": "   ball_pos_x  ball_pos_y  ball_pos_z  ball_vel_x  ball_vel_y  ball_vel_z  \\\n0        -0.0         0.0    1.854492        -0.0         0.0         0.0   \n1        -0.0         0.0    1.854492        -0.0         0.0         0.0   \n2        -0.0         0.0    1.854492        -0.0         0.0         0.0   \n3        -0.0         0.0    1.854492        -0.0         0.0         0.0   \n4        -0.0         0.0    1.854492        -0.0         0.0         0.0   \n\n   p0_pos_x  p0_pos_y  p0_pos_z   p0_vel_x  ...  p5_vel_z   p5_boost  \\\n0  41.81250 -51.93750  0.340088   5.636719  ... -0.000200  22.343750   \n1  42.25000 -52.43750  0.340088   5.289062  ...  0.000200  30.625000   \n2  43.21875 -54.06250  1.146484   5.687500  ...  6.210938  26.890625   \n3  43.90625 -55.21875  1.593750  10.593750  ...  4.933594  23.375000   \n4  44.96875 -57.09375  2.072266  10.632812  ...  1.325195  19.843750   \n\n   boost0_timer  boost1_timer  boost2_timer  boost3_timer  boost4_timer  \\\n0           0.0           0.0           0.0           0.0           0.0   \n1           0.0           0.0           0.0           0.0           0.0   \n2           0.0           0.0           0.0           0.0           0.0   \n3           0.0           0.0           0.0           0.0           0.0   \n4           0.0           0.0           0.0           0.0           0.0   \n\n   boost5_timer  team_A_scoring_within_10sec  team_B_scoring_within_10sec  \n0           0.0                            0                            0  \n1           0.0                            0                            0  \n2           0.0                            0                            0  \n3           0.0                            0                            0  \n4           0.0                            0                            0  \n\n[5 rows x 56 columns]",
            "text/html": "<div>\n<style scoped>\n    .dataframe tbody tr th:only-of-type {\n        vertical-align: middle;\n    }\n\n    .dataframe tbody tr th {\n        vertical-align: top;\n    }\n\n    .dataframe thead th {\n        text-align: right;\n    }\n</style>\n<table border=\"1\" class=\"dataframe\">\n  <thead>\n    <tr style=\"text-align: right;\">\n      <th></th>\n      <th>ball_pos_x</th>\n      <th>ball_pos_y</th>\n      <th>ball_pos_z</th>\n      <th>ball_vel_x</th>\n      <th>ball_vel_y</th>\n      <th>ball_vel_z</th>\n      <th>p0_pos_x</th>\n      <th>p0_pos_y</th>\n      <th>p0_pos_z</th>\n      <th>p0_vel_x</th>\n      <th>...</th>\n      <th>p5_vel_z</th>\n      <th>p5_boost</th>\n      <th>boost0_timer</th>\n      <th>boost1_timer</th>\n      <th>boost2_timer</th>\n      <th>boost3_timer</th>\n      <th>boost4_timer</th>\n      <th>boost5_timer</th>\n      <th>team_A_scoring_within_10sec</th>\n      <th>team_B_scoring_within_10sec</th>\n    </tr>\n  </thead>\n  <tbody>\n    <tr>\n      <th>0</th>\n      <td>-0.0</td>\n      <td>0.0</td>\n      <td>1.854492</td>\n      <td>-0.0</td>\n      <td>0.0</td>\n      <td>0.0</td>\n      <td>41.81250</td>\n      <td>-51.93750</td>\n      <td>0.340088</td>\n      <td>5.636719</td>\n      <td>...</td>\n      <td>-0.000200</td>\n      <td>22.343750</td>\n      <td>0.0</td>\n      <td>0.0</td>\n      <td>0.0</td>\n      <td>0.0</td>\n      <td>0.0</td>\n      <td>0.0</td>\n      <td>0</td>\n      <td>0</td>\n    </tr>\n    <tr>\n      <th>1</th>\n      <td>-0.0</td>\n      <td>0.0</td>\n      <td>1.854492</td>\n      <td>-0.0</td>\n      <td>0.0</td>\n      <td>0.0</td>\n      <td>42.25000</td>\n      <td>-52.43750</td>\n      <td>0.340088</td>\n      <td>5.289062</td>\n      <td>...</td>\n      <td>0.000200</td>\n      <td>30.625000</td>\n      <td>0.0</td>\n      <td>0.0</td>\n      <td>0.0</td>\n      <td>0.0</td>\n      <td>0.0</td>\n      <td>0.0</td>\n      <td>0</td>\n      <td>0</td>\n    </tr>\n    <tr>\n      <th>2</th>\n      <td>-0.0</td>\n      <td>0.0</td>\n      <td>1.854492</td>\n      <td>-0.0</td>\n      <td>0.0</td>\n      <td>0.0</td>\n      <td>43.21875</td>\n      <td>-54.06250</td>\n      <td>1.146484</td>\n      <td>5.687500</td>\n      <td>...</td>\n      <td>6.210938</td>\n      <td>26.890625</td>\n      <td>0.0</td>\n      <td>0.0</td>\n      <td>0.0</td>\n      <td>0.0</td>\n      <td>0.0</td>\n      <td>0.0</td>\n      <td>0</td>\n      <td>0</td>\n    </tr>\n    <tr>\n      <th>3</th>\n      <td>-0.0</td>\n      <td>0.0</td>\n      <td>1.854492</td>\n      <td>-0.0</td>\n      <td>0.0</td>\n      <td>0.0</td>\n      <td>43.90625</td>\n      <td>-55.21875</td>\n      <td>1.593750</td>\n      <td>10.593750</td>\n      <td>...</td>\n      <td>4.933594</td>\n      <td>23.375000</td>\n      <td>0.0</td>\n      <td>0.0</td>\n      <td>0.0</td>\n      <td>0.0</td>\n      <td>0.0</td>\n      <td>0.0</td>\n      <td>0</td>\n      <td>0</td>\n    </tr>\n    <tr>\n      <th>4</th>\n      <td>-0.0</td>\n      <td>0.0</td>\n      <td>1.854492</td>\n      <td>-0.0</td>\n      <td>0.0</td>\n      <td>0.0</td>\n      <td>44.96875</td>\n      <td>-57.09375</td>\n      <td>2.072266</td>\n      <td>10.632812</td>\n      <td>...</td>\n      <td>1.325195</td>\n      <td>19.843750</td>\n      <td>0.0</td>\n      <td>0.0</td>\n      <td>0.0</td>\n      <td>0.0</td>\n      <td>0.0</td>\n      <td>0.0</td>\n      <td>0</td>\n      <td>0</td>\n    </tr>\n  </tbody>\n</table>\n<p>5 rows × 56 columns</p>\n</div>"
          },
          "metadata": {}
        }
      ]
    },
    {
      "cell_type": "markdown",
      "source": [
        "### Feature Engineering"
      ],
      "metadata": {
        "id": "lCYdOoaI-tNb"
      }
    },
    {
      "cell_type": "code",
      "source": [
        "# function to get ball distance from players location    \n",
        "def get_new_features(df):\n",
        "    for i in range(6):\n",
        "        # done this way to get absolute values\n",
        "        df[f\"p{i}_ball_distance\"] = ((df[\"ball_pos_x\"] - df[f\"p{i}_pos_x\"]) **2 + \\\n",
        "        (df[\"ball_pos_y\"] - df[f\"p{i}_pos_y\"]) **2 + \\\n",
        "        (df[\"ball_pos_z\"] - df[f\"p{i}_pos_z\"]) **2) ** 0.5\n",
        "        \n",
        "        # if player in this x and y cordinates which is pos of BigBoostOrb\n",
        "        # and boost timer is 0 then set okayer boost to 100\n",
        "        x_cord_condition = [-61.4, 61.4, -71.7, 71.7, -61.4, 61.4]\n",
        "        y_cord_condition = [-81.9, -81.9, 0, 0, 81.9, 81.9]\n",
        "        boost_timer_condition = 0\n",
        "        \n",
        "        # pandas way of doing dask code below\n",
        "        df.loc[(df[f\"p{i}_pos_x\"].isin(x_cord_condition)) & (df[f\"p{i}_pos_y\"].isin(y_cord_condition)) \\\n",
        "              & (df[f\"boost{i}_timer\"] == boost_timer_condition), f\"p{i}_boost\"] = 100\n",
        "\n",
        "        # dask way of doing code above\n",
        "#         df[f\"p{i}_boost\"] = df[f\"p{i}_boost\"].mask((df[f\"p{i}_pos_x\"].isin(x_cord_condition)) & (df[f\"p{i}_pos_y\"].isin(y_cord_condition)) \\\n",
        "#               & (df[f\"boost{i}_timer\"] == boost_timer_condition), 100)\n",
        "        \n",
        "        \n",
        "        del x_cord_condition\n",
        "        del y_cord_condition\n",
        "        del boost_timer_condition\n",
        "        gc.collect()\n",
        "    \n",
        "        \n",
        "    return df"
      ],
      "metadata": {
        "execution": {
          "iopub.status.busy": "2022-10-05T01:24:23.328855Z",
          "iopub.execute_input": "2022-10-05T01:24:23.329629Z",
          "iopub.status.idle": "2022-10-05T01:24:23.341819Z",
          "shell.execute_reply.started": "2022-10-05T01:24:23.329587Z",
          "shell.execute_reply": "2022-10-05T01:24:23.340251Z"
        },
        "trusted": true,
        "id": "wVpV9fWT-tNb"
      },
      "execution_count": null,
      "outputs": []
    },
    {
      "cell_type": "code",
      "source": [
        "train = get_new_features(train)"
      ],
      "metadata": {
        "execution": {
          "iopub.status.busy": "2022-10-05T01:24:23.346915Z",
          "iopub.execute_input": "2022-10-05T01:24:23.347602Z",
          "iopub.status.idle": "2022-10-05T01:24:29.800427Z",
          "shell.execute_reply.started": "2022-10-05T01:24:23.347553Z",
          "shell.execute_reply": "2022-10-05T01:24:29.799099Z"
        },
        "trusted": true,
        "id": "GgRwqxkM-tNc"
      },
      "execution_count": null,
      "outputs": []
    },
    {
      "cell_type": "code",
      "source": [
        "gc.collect()\n",
        "train.head()"
      ],
      "metadata": {
        "execution": {
          "iopub.status.busy": "2022-10-05T01:24:29.802359Z",
          "iopub.execute_input": "2022-10-05T01:24:29.802801Z",
          "iopub.status.idle": "2022-10-05T01:24:30.015158Z",
          "shell.execute_reply.started": "2022-10-05T01:24:29.802742Z",
          "shell.execute_reply": "2022-10-05T01:24:30.013953Z"
        },
        "trusted": true,
        "id": "VjteV8pC-tNc",
        "outputId": "9f029f69-17a9-45e5-f4c0-33984e369bce"
      },
      "execution_count": null,
      "outputs": [
        {
          "execution_count": 13,
          "output_type": "execute_result",
          "data": {
            "text/plain": "         ball_pos_x  ball_pos_y  ball_pos_z  ball_vel_x  ball_vel_y  \\\n1861979  -65.312500   20.140625   27.265625  -34.218750  -15.453125   \n1088030   52.875000  -99.000000    5.695312   10.101562   30.953125   \n1300769  -30.671875  -87.375000    6.949219   43.375000  -53.093750   \n645306   -78.625000  -27.125000   29.890625  -17.234375  -40.843750   \n48734     55.187500  -15.125000   26.687500   21.468750  -29.312500   \n\n         ball_vel_z   p0_pos_x    p0_pos_y  p0_pos_z   p0_vel_x  ...  \\\n1861979  -18.421875 -64.750000  -38.281250  0.340332   8.742188  ...   \n1088030    5.113281  68.562500  -63.812500  0.340088 -11.640625  ...   \n1300769    0.156372 -23.687500 -102.000000  3.023438  21.484375  ...   \n645306    12.046875  10.359375  -81.500000  0.340088 -23.390625  ...   \n48734      7.582031  -7.910156   31.890625  2.294922 -42.312500  ...   \n\n         boost4_timer  boost5_timer  team_A_scoring_within_10sec  \\\n1861979     -7.332031     -4.332031                            0   \n1088030     -9.335938     -8.867188                            0   \n1300769      0.000000      0.000000                            0   \n645306      -3.925781      0.000000                            0   \n48734        0.000000     -3.025391                            0   \n\n         team_B_scoring_within_10sec  p0_ball_distance  p1_ball_distance  \\\n1861979                            0          64.31250         78.500000   \n1088030                            0          38.90625         40.531250   \n1300769                            1          16.68750         25.609375   \n645306                             0         108.43750         51.156250   \n48734                              0          82.37500         51.312500   \n\n         p2_ball_distance  p3_ball_distance  p4_ball_distance  \\\n1861979         90.562500         28.875000         57.687500   \n1088030          4.460938        165.750000          7.144531   \n1300769         42.281250         19.125000         98.062500   \n645306         125.687500         30.453125         90.812500   \n48734           34.968750         85.250000         97.750000   \n\n         p5_ball_distance  \n1861979          56.46875  \n1088030         218.75000  \n1300769          20.65625  \n645306           78.62500  \n48734            24.84375  \n\n[5 rows x 62 columns]",
            "text/html": "<div>\n<style scoped>\n    .dataframe tbody tr th:only-of-type {\n        vertical-align: middle;\n    }\n\n    .dataframe tbody tr th {\n        vertical-align: top;\n    }\n\n    .dataframe thead th {\n        text-align: right;\n    }\n</style>\n<table border=\"1\" class=\"dataframe\">\n  <thead>\n    <tr style=\"text-align: right;\">\n      <th></th>\n      <th>ball_pos_x</th>\n      <th>ball_pos_y</th>\n      <th>ball_pos_z</th>\n      <th>ball_vel_x</th>\n      <th>ball_vel_y</th>\n      <th>ball_vel_z</th>\n      <th>p0_pos_x</th>\n      <th>p0_pos_y</th>\n      <th>p0_pos_z</th>\n      <th>p0_vel_x</th>\n      <th>...</th>\n      <th>boost4_timer</th>\n      <th>boost5_timer</th>\n      <th>team_A_scoring_within_10sec</th>\n      <th>team_B_scoring_within_10sec</th>\n      <th>p0_ball_distance</th>\n      <th>p1_ball_distance</th>\n      <th>p2_ball_distance</th>\n      <th>p3_ball_distance</th>\n      <th>p4_ball_distance</th>\n      <th>p5_ball_distance</th>\n    </tr>\n  </thead>\n  <tbody>\n    <tr>\n      <th>1861979</th>\n      <td>-65.312500</td>\n      <td>20.140625</td>\n      <td>27.265625</td>\n      <td>-34.218750</td>\n      <td>-15.453125</td>\n      <td>-18.421875</td>\n      <td>-64.750000</td>\n      <td>-38.281250</td>\n      <td>0.340332</td>\n      <td>8.742188</td>\n      <td>...</td>\n      <td>-7.332031</td>\n      <td>-4.332031</td>\n      <td>0</td>\n      <td>0</td>\n      <td>64.31250</td>\n      <td>78.500000</td>\n      <td>90.562500</td>\n      <td>28.875000</td>\n      <td>57.687500</td>\n      <td>56.46875</td>\n    </tr>\n    <tr>\n      <th>1088030</th>\n      <td>52.875000</td>\n      <td>-99.000000</td>\n      <td>5.695312</td>\n      <td>10.101562</td>\n      <td>30.953125</td>\n      <td>5.113281</td>\n      <td>68.562500</td>\n      <td>-63.812500</td>\n      <td>0.340088</td>\n      <td>-11.640625</td>\n      <td>...</td>\n      <td>-9.335938</td>\n      <td>-8.867188</td>\n      <td>0</td>\n      <td>0</td>\n      <td>38.90625</td>\n      <td>40.531250</td>\n      <td>4.460938</td>\n      <td>165.750000</td>\n      <td>7.144531</td>\n      <td>218.75000</td>\n    </tr>\n    <tr>\n      <th>1300769</th>\n      <td>-30.671875</td>\n      <td>-87.375000</td>\n      <td>6.949219</td>\n      <td>43.375000</td>\n      <td>-53.093750</td>\n      <td>0.156372</td>\n      <td>-23.687500</td>\n      <td>-102.000000</td>\n      <td>3.023438</td>\n      <td>21.484375</td>\n      <td>...</td>\n      <td>0.000000</td>\n      <td>0.000000</td>\n      <td>0</td>\n      <td>1</td>\n      <td>16.68750</td>\n      <td>25.609375</td>\n      <td>42.281250</td>\n      <td>19.125000</td>\n      <td>98.062500</td>\n      <td>20.65625</td>\n    </tr>\n    <tr>\n      <th>645306</th>\n      <td>-78.625000</td>\n      <td>-27.125000</td>\n      <td>29.890625</td>\n      <td>-17.234375</td>\n      <td>-40.843750</td>\n      <td>12.046875</td>\n      <td>10.359375</td>\n      <td>-81.500000</td>\n      <td>0.340088</td>\n      <td>-23.390625</td>\n      <td>...</td>\n      <td>-3.925781</td>\n      <td>0.000000</td>\n      <td>0</td>\n      <td>0</td>\n      <td>108.43750</td>\n      <td>51.156250</td>\n      <td>125.687500</td>\n      <td>30.453125</td>\n      <td>90.812500</td>\n      <td>78.62500</td>\n    </tr>\n    <tr>\n      <th>48734</th>\n      <td>55.187500</td>\n      <td>-15.125000</td>\n      <td>26.687500</td>\n      <td>21.468750</td>\n      <td>-29.312500</td>\n      <td>7.582031</td>\n      <td>-7.910156</td>\n      <td>31.890625</td>\n      <td>2.294922</td>\n      <td>-42.312500</td>\n      <td>...</td>\n      <td>0.000000</td>\n      <td>-3.025391</td>\n      <td>0</td>\n      <td>0</td>\n      <td>82.37500</td>\n      <td>51.312500</td>\n      <td>34.968750</td>\n      <td>85.250000</td>\n      <td>97.750000</td>\n      <td>24.84375</td>\n    </tr>\n  </tbody>\n</table>\n<p>5 rows × 62 columns</p>\n</div>"
          },
          "metadata": {}
        }
      ]
    },
    {
      "cell_type": "markdown",
      "source": [
        "**Model Training and Making Predictions Simultaneously, due to low ram**\n"
      ],
      "metadata": {
        "execution": {
          "iopub.status.busy": "2022-10-03T12:58:42.719456Z",
          "iopub.execute_input": "2022-10-03T12:58:42.720338Z",
          "iopub.status.idle": "2022-10-03T12:58:43.127439Z",
          "shell.execute_reply.started": "2022-10-03T12:58:42.720262Z",
          "shell.execute_reply": "2022-10-03T12:58:43.125481Z"
        },
        "id": "ur4ivZRs-tNc"
      }
    },
    {
      "cell_type": "code",
      "source": [
        "gc.collect()\n",
        "yA = train['team_A_scoring_within_10sec']\n",
        "yB = train['team_B_scoring_within_10sec']\n",
        "\n",
        "x = train.drop(columns = [\"team_A_scoring_within_10sec\", \"team_B_scoring_within_10sec\"])\n",
        "\n",
        "x_test =  get_new_features(optimize_memory_usage(pd.read_csv(\"../input/tabular-playground-series-oct-2022/test.csv\")))\n",
        "x_test.fillna(0)\n",
        "test_id = x_test[\"id\"]\n",
        "x_test.drop(columns = [\"id\"], inplace =True)\n",
        "del train\n",
        "gc.collect()\n",
        "\n",
        "len(x.columns), len(x_test.columns)"
      ],
      "metadata": {
        "execution": {
          "iopub.status.busy": "2022-10-05T01:24:30.016964Z",
          "iopub.execute_input": "2022-10-05T01:24:30.017397Z",
          "iopub.status.idle": "2022-10-05T01:24:45.534073Z",
          "shell.execute_reply.started": "2022-10-05T01:24:30.017356Z",
          "shell.execute_reply": "2022-10-05T01:24:45.533003Z"
        },
        "trusted": true,
        "id": "Z5VWoXOe-tNc",
        "outputId": "15101680-9d09-409a-d969-0d0f24a0485e"
      },
      "execution_count": null,
      "outputs": [
        {
          "execution_count": 14,
          "output_type": "execute_result",
          "data": {
            "text/plain": "(60, 60)"
          },
          "metadata": {}
        }
      ]
    },
    {
      "cell_type": "code",
      "source": [
        "len(x_test.index)"
      ],
      "metadata": {
        "execution": {
          "iopub.status.busy": "2022-10-05T01:20:03.715219Z",
          "iopub.execute_input": "2022-10-05T01:20:03.715580Z",
          "iopub.status.idle": "2022-10-05T01:20:03.721995Z",
          "shell.execute_reply.started": "2022-10-05T01:20:03.715550Z",
          "shell.execute_reply": "2022-10-05T01:20:03.720969Z"
        },
        "trusted": true,
        "id": "2_1GrNTA-tNc",
        "outputId": "f592a65d-6417-4e87-dfc9-c1bce959c961"
      },
      "execution_count": null,
      "outputs": [
        {
          "execution_count": 14,
          "output_type": "execute_result",
          "data": {
            "text/plain": "701143"
          },
          "metadata": {}
        }
      ]
    },
    {
      "cell_type": "code",
      "source": [
        "params = {'tree_method': 'gpu_hist',\n",
        "          'n_estimators': 240,\n",
        "          'max_depth': 8,\n",
        "          'learning_rate': 0.1,\n",
        "          'objective': 'binary:logistic',\n",
        "         }\n",
        "\n",
        "# used to train model for modelA and modelB\n",
        "def train_model(x, y, x_test):\n",
        "    gc.collect()\n",
        "    roc_scores = []\n",
        "    test_predictions_proba = []\n",
        "    cv = StratifiedKFold(n_splits = 5, shuffle = True)\n",
        "    \n",
        "    for fold, (train_idx, val_idx) in enumerate(cv.split(x, y)):\n",
        "        x_train, x_val = x.iloc[train_idx], x.iloc[val_idx]\n",
        "        y_train, y_val = y.iloc[train_idx], y.iloc[val_idx]\n",
        "        \n",
        "        model = XGBClassifier(**params)\n",
        "        model.fit(x_train, y_train)\n",
        "        predictions_prob = model.predict_proba(x_val)[:, 1]\n",
        "        score = roc_auc_score(y_val, predictions_prob)\n",
        "        roc_scores.append(score)\n",
        "        test_predictions_proba.append(model.predict_proba(x_test)[:, 1])\n",
        "        print(f\"Fold {fold + 1} \\t\\t AUC: {score}\")\n",
        "        \n",
        "        del model\n",
        "        del x_train\n",
        "        del x_val\n",
        "        del y_train\n",
        "        del y_val\n",
        "        gc.collect()\n",
        "    \n",
        "    print(\"Overall roc_auc_score: \", np.mean(roc_scores))\n",
        "    return test_predictions_proba\n",
        "        "
      ],
      "metadata": {
        "execution": {
          "iopub.status.busy": "2022-10-05T01:37:57.090239Z",
          "iopub.execute_input": "2022-10-05T01:37:57.090615Z",
          "iopub.status.idle": "2022-10-05T01:37:57.100936Z",
          "shell.execute_reply.started": "2022-10-05T01:37:57.090584Z",
          "shell.execute_reply": "2022-10-05T01:37:57.099817Z"
        },
        "trusted": true,
        "id": "0AzrEcuF-tNd"
      },
      "execution_count": null,
      "outputs": []
    },
    {
      "cell_type": "code",
      "source": [
        "predictions_A = train_model(x, yA, x_test)"
      ],
      "metadata": {
        "execution": {
          "iopub.status.busy": "2022-10-05T01:38:00.220179Z",
          "iopub.execute_input": "2022-10-05T01:38:00.220580Z",
          "iopub.status.idle": "2022-10-05T01:41:13.737713Z",
          "shell.execute_reply.started": "2022-10-05T01:38:00.220545Z",
          "shell.execute_reply": "2022-10-05T01:41:13.736524Z"
        },
        "trusted": true,
        "id": "ncurW8QH-tNd",
        "outputId": "d6518450-1907-4010-846d-370a248e0744"
      },
      "execution_count": null,
      "outputs": [
        {
          "name": "stdout",
          "text": "Fold 1 \t\t AUC: 0.779027311756058\nFold 2 \t\t AUC: 0.7818504998346956\nFold 3 \t\t AUC: 0.7805682857356466\nFold 4 \t\t AUC: 0.7800677951182263\nFold 5 \t\t AUC: 0.7802744514137218\nOverall roc_auc_score:  0.7803576687716697\n",
          "output_type": "stream"
        }
      ]
    },
    {
      "cell_type": "code",
      "source": [
        "gc.collect()\n",
        "predictions_B = train_model(x, yB, x_test)"
      ],
      "metadata": {
        "execution": {
          "iopub.status.busy": "2022-10-05T01:41:20.789833Z",
          "iopub.execute_input": "2022-10-05T01:41:20.790225Z",
          "iopub.status.idle": "2022-10-05T01:44:30.821776Z",
          "shell.execute_reply.started": "2022-10-05T01:41:20.790193Z",
          "shell.execute_reply": "2022-10-05T01:44:30.819392Z"
        },
        "trusted": true,
        "id": "kAxE-R6e-tNd",
        "outputId": "17d6df73-71ef-44f4-f99b-d3c6b91aea59"
      },
      "execution_count": null,
      "outputs": [
        {
          "name": "stdout",
          "text": "Fold 1 \t\t AUC: 0.7805460887859448\nFold 2 \t\t AUC: 0.7825103336671114\nFold 3 \t\t AUC: 0.7801946960288043\nFold 4 \t\t AUC: 0.7803223799993165\nFold 5 \t\t AUC: 0.7803999908322536\nOverall roc_auc_score:  0.7807946978626861\n",
          "output_type": "stream"
        }
      ]
    },
    {
      "cell_type": "code",
      "source": [
        "# viz one prediction result\n",
        "# each element in predictions A match to model predictions when trained on fold 1\n",
        "predictions_A[0]"
      ],
      "metadata": {
        "execution": {
          "iopub.status.busy": "2022-10-05T01:44:37.179387Z",
          "iopub.execute_input": "2022-10-05T01:44:37.179753Z",
          "iopub.status.idle": "2022-10-05T01:44:37.189915Z",
          "shell.execute_reply.started": "2022-10-05T01:44:37.179723Z",
          "shell.execute_reply": "2022-10-05T01:44:37.187522Z"
        },
        "trusted": true,
        "id": "f9BTOmhJ-tNd",
        "outputId": "408cbd74-2649-4b2a-869e-0478d66ab8d2"
      },
      "execution_count": null,
      "outputs": [
        {
          "execution_count": 26,
          "output_type": "execute_result",
          "data": {
            "text/plain": "array([0.03206485, 0.05724065, 0.02291578, ..., 0.0778046 , 0.00990501,\n       0.05092934], dtype=float32)"
          },
          "metadata": {}
        }
      ]
    },
    {
      "cell_type": "code",
      "source": [
        "predictions_mean_A = np.mean(predictions_A, axis = 0)"
      ],
      "metadata": {
        "execution": {
          "iopub.status.busy": "2022-10-05T01:44:39.929259Z",
          "iopub.execute_input": "2022-10-05T01:44:39.929628Z",
          "iopub.status.idle": "2022-10-05T01:44:39.941340Z",
          "shell.execute_reply.started": "2022-10-05T01:44:39.929597Z",
          "shell.execute_reply": "2022-10-05T01:44:39.940139Z"
        },
        "trusted": true,
        "id": "msXWwjzG-tNd"
      },
      "execution_count": null,
      "outputs": []
    },
    {
      "cell_type": "code",
      "source": [
        "predictions_mean_B = np.mean(predictions_B, axis = 0)"
      ],
      "metadata": {
        "execution": {
          "iopub.status.busy": "2022-10-05T01:44:41.889055Z",
          "iopub.execute_input": "2022-10-05T01:44:41.889404Z",
          "iopub.status.idle": "2022-10-05T01:44:41.901134Z",
          "shell.execute_reply.started": "2022-10-05T01:44:41.889376Z",
          "shell.execute_reply": "2022-10-05T01:44:41.899881Z"
        },
        "trusted": true,
        "id": "19B4b8OV-tNe"
      },
      "execution_count": null,
      "outputs": []
    },
    {
      "cell_type": "code",
      "source": [
        "submission = pd.DataFrame({\"id\": test_id,\n",
        "    \"team_A_scoring_within_10sec\": predictions_mean_A,\n",
        "    \"team_B_scoring_within_10sec\": predictions_mean_B})"
      ],
      "metadata": {
        "execution": {
          "iopub.status.busy": "2022-10-05T01:44:43.739215Z",
          "iopub.execute_input": "2022-10-05T01:44:43.739579Z",
          "iopub.status.idle": "2022-10-05T01:44:43.747435Z",
          "shell.execute_reply.started": "2022-10-05T01:44:43.739550Z",
          "shell.execute_reply": "2022-10-05T01:44:43.746154Z"
        },
        "trusted": true,
        "id": "dy0vtWDi-tNe"
      },
      "execution_count": null,
      "outputs": []
    },
    {
      "cell_type": "code",
      "source": [
        "submission.to_csv(\"submission_on_20%_sample_of_whole_data_tweak.csv\", index = False)"
      ],
      "metadata": {
        "execution": {
          "iopub.status.busy": "2022-10-05T01:46:49.631904Z",
          "iopub.execute_input": "2022-10-05T01:46:49.632307Z",
          "iopub.status.idle": "2022-10-05T01:46:51.911181Z",
          "shell.execute_reply.started": "2022-10-05T01:46:49.632257Z",
          "shell.execute_reply": "2022-10-05T01:46:51.910001Z"
        },
        "trusted": true,
        "id": "XoID_qOu-tNe"
      },
      "execution_count": null,
      "outputs": []
    },
    {
      "cell_type": "code",
      "source": [
        "del predictions_mean_A\n",
        "del predictions_mean_B\n",
        "del submission\n",
        "del predictions_A\n",
        "del predictions_B"
      ],
      "metadata": {
        "execution": {
          "iopub.status.busy": "2022-10-05T01:50:59.119573Z",
          "iopub.execute_input": "2022-10-05T01:50:59.119958Z",
          "iopub.status.idle": "2022-10-05T01:50:59.125126Z",
          "shell.execute_reply.started": "2022-10-05T01:50:59.119928Z",
          "shell.execute_reply": "2022-10-05T01:50:59.124038Z"
        },
        "trusted": true,
        "id": "1xqywaEv-tNe"
      },
      "execution_count": null,
      "outputs": []
    },
    {
      "cell_type": "markdown",
      "source": [
        "**Come back later to find out if there's any other feature combination**"
      ],
      "metadata": {
        "execution": {
          "iopub.status.busy": "2022-10-05T01:51:14.613981Z",
          "iopub.execute_input": "2022-10-05T01:51:14.614377Z",
          "iopub.status.idle": "2022-10-05T01:51:14.619355Z",
          "shell.execute_reply.started": "2022-10-05T01:51:14.614343Z",
          "shell.execute_reply": "2022-10-05T01:51:14.618179Z"
        },
        "id": "K5vN6MKx-tNe"
      }
    },
    {
      "cell_type": "code",
      "source": [],
      "metadata": {
        "execution": {
          "iopub.status.busy": "2022-10-04T16:35:09.301017Z",
          "iopub.execute_input": "2022-10-04T16:35:09.301418Z"
        },
        "trusted": true,
        "id": "t6KAacM5-tNe"
      },
      "execution_count": null,
      "outputs": []
    },
    {
      "cell_type": "code",
      "source": [],
      "metadata": {
        "trusted": true,
        "id": "RcEtvERR-tNe"
      },
      "execution_count": null,
      "outputs": []
    },
    {
      "cell_type": "code",
      "source": [],
      "metadata": {
        "trusted": true,
        "id": "YgDj1lof-tNf"
      },
      "execution_count": null,
      "outputs": []
    },
    {
      "cell_type": "code",
      "source": [],
      "metadata": {
        "trusted": true,
        "id": "4S9c7BU_-tNf"
      },
      "execution_count": null,
      "outputs": []
    }
  ]
}