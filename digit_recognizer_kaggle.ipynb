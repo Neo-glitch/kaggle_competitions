{
  "metadata": {
    "kernelspec": {
      "language": "python",
      "display_name": "Python 3",
      "name": "python3"
    },
    "language_info": {
      "name": "python",
      "version": "3.7.12",
      "mimetype": "text/x-python",
      "codemirror_mode": {
        "name": "ipython",
        "version": 3
      },
      "pygments_lexer": "ipython3",
      "nbconvert_exporter": "python",
      "file_extension": ".py"
    },
    "colab": {
      "provenance": [],
      "include_colab_link": true
    }
  },
  "nbformat_minor": 0,
  "nbformat": 4,
  "cells": [
    {
      "cell_type": "markdown",
      "metadata": {
        "id": "view-in-github",
        "colab_type": "text"
      },
      "source": [
        "<a href=\"https://colab.research.google.com/github/Neo-glitch/kaggle_competitions/blob/main/digit_recognizer_kaggle.ipynb\" target=\"_parent\"><img src=\"https://colab.research.google.com/assets/colab-badge.svg\" alt=\"Open In Colab\"/></a>"
      ]
    },
    {
      "cell_type": "code",
      "source": [
        "# This Python 3 environment comes with many helpful analytics libraries installed\n",
        "# It is defined by the kaggle/python Docker image: https://github.com/kaggle/docker-python\n",
        "# For example, here's several helpful packages to load\n",
        "\n",
        "import numpy as np # linear algebra\n",
        "import pandas as pd # data processing, CSV file I/O (e.g. pd.read_csv)\n",
        "\n",
        "# Input data files are available in the read-only \"../input/\" directory\n",
        "# For example, running this (by clicking run or pressing Shift+Enter) will list all files under the input directory\n",
        "\n",
        "import os\n",
        "for dirname, _, filenames in os.walk('/kaggle/input'):\n",
        "    for filename in filenames:\n",
        "        print(os.path.join(dirname, filename))\n",
        "\n",
        "# You can write up to 20GB to the current directory (/kaggle/working/) that gets preserved as output when you create a version using \"Save & Run All\" \n",
        "# You can also write temporary files to /kaggle/temp/, but they won't be saved outside of the current session"
      ],
      "metadata": {
        "_uuid": "8f2839f25d086af736a60e9eeb907d3b93b6e0e5",
        "_cell_guid": "b1076dfc-b9ad-4769-8c92-a6c4dae69d19",
        "trusted": true,
        "id": "Dfhy4GsRIDfT"
      },
      "execution_count": null,
      "outputs": []
    },
    {
      "cell_type": "code",
      "source": [
        "import numpy as np\n",
        "import csv\n",
        "import pandas as pd\n",
        "import seaborn as sns\n",
        "import matplotlib.pyplot as plt\n",
        "from sklearn.metrics import confusion_matrix, precision_score, recall_score, \\\n",
        "                            f1_score, classification_report\n",
        "from sklearn.model_selection import train_test_split, StratifiedShuffleSplit\n",
        "from IPython.display import display\n",
        "\n",
        "import tensorflow as tf\n",
        "from tensorflow import keras\n",
        "from tensorflow.keras.preprocessing.image import ImageDataGenerator, array_to_img\n",
        "from tensorflow.keras.layers import Input, Conv2D, MaxPooling2D, BatchNormalization, \\\n",
        "                Flatten, GlobalAveragePooling2D, Dense, Dropout\n",
        "from tensorflow.data import AUTOTUNE\n",
        "from tensorflow.keras.optimizers import Adam, RMSprop\n",
        "from tensorflow.keras.callbacks import LearningRateScheduler, ReduceLROnPlateau, ModelCheckpoint"
      ],
      "metadata": {
        "execution": {
          "iopub.status.busy": "2022-10-08T18:29:40.834675Z",
          "iopub.execute_input": "2022-10-08T18:29:40.835028Z",
          "iopub.status.idle": "2022-10-08T18:29:46.750755Z",
          "shell.execute_reply.started": "2022-10-08T18:29:40.834997Z",
          "shell.execute_reply": "2022-10-08T18:29:46.749780Z"
        },
        "trusted": true,
        "id": "0Xgg6yi9IDfX"
      },
      "execution_count": null,
      "outputs": []
    },
    {
      "cell_type": "code",
      "source": [
        "train_data = pd.read_csv(\"../input/digit-recognizer/train.csv\")\n",
        "\n",
        "test_data = pd.read_csv(\"../input/digit-recognizer/test.csv\")\n",
        "\n",
        "submission_data = pd.read_csv(\"../input/digit-recognizer/sample_submission.csv\")\n",
        "\n",
        "train_data.head()"
      ],
      "metadata": {
        "execution": {
          "iopub.status.busy": "2022-10-08T18:29:46.752838Z",
          "iopub.execute_input": "2022-10-08T18:29:46.754630Z",
          "iopub.status.idle": "2022-10-08T18:29:51.575834Z",
          "shell.execute_reply.started": "2022-10-08T18:29:46.754591Z",
          "shell.execute_reply": "2022-10-08T18:29:51.574752Z"
        },
        "trusted": true,
        "id": "xklU8S9WIDfY",
        "outputId": "d2134076-907e-46f4-f437-f85b7b6e457e"
      },
      "execution_count": null,
      "outputs": [
        {
          "execution_count": 5,
          "output_type": "execute_result",
          "data": {
            "text/plain": "   label  pixel0  pixel1  pixel2  pixel3  pixel4  pixel5  pixel6  pixel7  \\\n0      1       0       0       0       0       0       0       0       0   \n1      0       0       0       0       0       0       0       0       0   \n2      1       0       0       0       0       0       0       0       0   \n3      4       0       0       0       0       0       0       0       0   \n4      0       0       0       0       0       0       0       0       0   \n\n   pixel8  ...  pixel774  pixel775  pixel776  pixel777  pixel778  pixel779  \\\n0       0  ...         0         0         0         0         0         0   \n1       0  ...         0         0         0         0         0         0   \n2       0  ...         0         0         0         0         0         0   \n3       0  ...         0         0         0         0         0         0   \n4       0  ...         0         0         0         0         0         0   \n\n   pixel780  pixel781  pixel782  pixel783  \n0         0         0         0         0  \n1         0         0         0         0  \n2         0         0         0         0  \n3         0         0         0         0  \n4         0         0         0         0  \n\n[5 rows x 785 columns]",
            "text/html": "<div>\n<style scoped>\n    .dataframe tbody tr th:only-of-type {\n        vertical-align: middle;\n    }\n\n    .dataframe tbody tr th {\n        vertical-align: top;\n    }\n\n    .dataframe thead th {\n        text-align: right;\n    }\n</style>\n<table border=\"1\" class=\"dataframe\">\n  <thead>\n    <tr style=\"text-align: right;\">\n      <th></th>\n      <th>label</th>\n      <th>pixel0</th>\n      <th>pixel1</th>\n      <th>pixel2</th>\n      <th>pixel3</th>\n      <th>pixel4</th>\n      <th>pixel5</th>\n      <th>pixel6</th>\n      <th>pixel7</th>\n      <th>pixel8</th>\n      <th>...</th>\n      <th>pixel774</th>\n      <th>pixel775</th>\n      <th>pixel776</th>\n      <th>pixel777</th>\n      <th>pixel778</th>\n      <th>pixel779</th>\n      <th>pixel780</th>\n      <th>pixel781</th>\n      <th>pixel782</th>\n      <th>pixel783</th>\n    </tr>\n  </thead>\n  <tbody>\n    <tr>\n      <th>0</th>\n      <td>1</td>\n      <td>0</td>\n      <td>0</td>\n      <td>0</td>\n      <td>0</td>\n      <td>0</td>\n      <td>0</td>\n      <td>0</td>\n      <td>0</td>\n      <td>0</td>\n      <td>...</td>\n      <td>0</td>\n      <td>0</td>\n      <td>0</td>\n      <td>0</td>\n      <td>0</td>\n      <td>0</td>\n      <td>0</td>\n      <td>0</td>\n      <td>0</td>\n      <td>0</td>\n    </tr>\n    <tr>\n      <th>1</th>\n      <td>0</td>\n      <td>0</td>\n      <td>0</td>\n      <td>0</td>\n      <td>0</td>\n      <td>0</td>\n      <td>0</td>\n      <td>0</td>\n      <td>0</td>\n      <td>0</td>\n      <td>...</td>\n      <td>0</td>\n      <td>0</td>\n      <td>0</td>\n      <td>0</td>\n      <td>0</td>\n      <td>0</td>\n      <td>0</td>\n      <td>0</td>\n      <td>0</td>\n      <td>0</td>\n    </tr>\n    <tr>\n      <th>2</th>\n      <td>1</td>\n      <td>0</td>\n      <td>0</td>\n      <td>0</td>\n      <td>0</td>\n      <td>0</td>\n      <td>0</td>\n      <td>0</td>\n      <td>0</td>\n      <td>0</td>\n      <td>...</td>\n      <td>0</td>\n      <td>0</td>\n      <td>0</td>\n      <td>0</td>\n      <td>0</td>\n      <td>0</td>\n      <td>0</td>\n      <td>0</td>\n      <td>0</td>\n      <td>0</td>\n    </tr>\n    <tr>\n      <th>3</th>\n      <td>4</td>\n      <td>0</td>\n      <td>0</td>\n      <td>0</td>\n      <td>0</td>\n      <td>0</td>\n      <td>0</td>\n      <td>0</td>\n      <td>0</td>\n      <td>0</td>\n      <td>...</td>\n      <td>0</td>\n      <td>0</td>\n      <td>0</td>\n      <td>0</td>\n      <td>0</td>\n      <td>0</td>\n      <td>0</td>\n      <td>0</td>\n      <td>0</td>\n      <td>0</td>\n    </tr>\n    <tr>\n      <th>4</th>\n      <td>0</td>\n      <td>0</td>\n      <td>0</td>\n      <td>0</td>\n      <td>0</td>\n      <td>0</td>\n      <td>0</td>\n      <td>0</td>\n      <td>0</td>\n      <td>0</td>\n      <td>...</td>\n      <td>0</td>\n      <td>0</td>\n      <td>0</td>\n      <td>0</td>\n      <td>0</td>\n      <td>0</td>\n      <td>0</td>\n      <td>0</td>\n      <td>0</td>\n      <td>0</td>\n    </tr>\n  </tbody>\n</table>\n<p>5 rows × 785 columns</p>\n</div>"
          },
          "metadata": {}
        }
      ]
    },
    {
      "cell_type": "markdown",
      "source": [
        "## EDA"
      ],
      "metadata": {
        "id": "owC6PCdQIDfa"
      }
    },
    {
      "cell_type": "code",
      "source": [
        "x = train_data.drop([\"label\"], axis = 1)\n",
        "\n",
        "y = train_data[\"label\"]\n",
        "\n",
        "x.head()"
      ],
      "metadata": {
        "execution": {
          "iopub.status.busy": "2022-10-08T18:29:51.577505Z",
          "iopub.execute_input": "2022-10-08T18:29:51.577874Z",
          "iopub.status.idle": "2022-10-08T18:29:51.674725Z",
          "shell.execute_reply.started": "2022-10-08T18:29:51.577838Z",
          "shell.execute_reply": "2022-10-08T18:29:51.673646Z"
        },
        "trusted": true,
        "id": "-wQSsc-CIDfc",
        "outputId": "2f001364-b2d7-4a87-9cb1-dca64f2e8d0c"
      },
      "execution_count": null,
      "outputs": [
        {
          "execution_count": 6,
          "output_type": "execute_result",
          "data": {
            "text/plain": "   pixel0  pixel1  pixel2  pixel3  pixel4  pixel5  pixel6  pixel7  pixel8  \\\n0       0       0       0       0       0       0       0       0       0   \n1       0       0       0       0       0       0       0       0       0   \n2       0       0       0       0       0       0       0       0       0   \n3       0       0       0       0       0       0       0       0       0   \n4       0       0       0       0       0       0       0       0       0   \n\n   pixel9  ...  pixel774  pixel775  pixel776  pixel777  pixel778  pixel779  \\\n0       0  ...         0         0         0         0         0         0   \n1       0  ...         0         0         0         0         0         0   \n2       0  ...         0         0         0         0         0         0   \n3       0  ...         0         0         0         0         0         0   \n4       0  ...         0         0         0         0         0         0   \n\n   pixel780  pixel781  pixel782  pixel783  \n0         0         0         0         0  \n1         0         0         0         0  \n2         0         0         0         0  \n3         0         0         0         0  \n4         0         0         0         0  \n\n[5 rows x 784 columns]",
            "text/html": "<div>\n<style scoped>\n    .dataframe tbody tr th:only-of-type {\n        vertical-align: middle;\n    }\n\n    .dataframe tbody tr th {\n        vertical-align: top;\n    }\n\n    .dataframe thead th {\n        text-align: right;\n    }\n</style>\n<table border=\"1\" class=\"dataframe\">\n  <thead>\n    <tr style=\"text-align: right;\">\n      <th></th>\n      <th>pixel0</th>\n      <th>pixel1</th>\n      <th>pixel2</th>\n      <th>pixel3</th>\n      <th>pixel4</th>\n      <th>pixel5</th>\n      <th>pixel6</th>\n      <th>pixel7</th>\n      <th>pixel8</th>\n      <th>pixel9</th>\n      <th>...</th>\n      <th>pixel774</th>\n      <th>pixel775</th>\n      <th>pixel776</th>\n      <th>pixel777</th>\n      <th>pixel778</th>\n      <th>pixel779</th>\n      <th>pixel780</th>\n      <th>pixel781</th>\n      <th>pixel782</th>\n      <th>pixel783</th>\n    </tr>\n  </thead>\n  <tbody>\n    <tr>\n      <th>0</th>\n      <td>0</td>\n      <td>0</td>\n      <td>0</td>\n      <td>0</td>\n      <td>0</td>\n      <td>0</td>\n      <td>0</td>\n      <td>0</td>\n      <td>0</td>\n      <td>0</td>\n      <td>...</td>\n      <td>0</td>\n      <td>0</td>\n      <td>0</td>\n      <td>0</td>\n      <td>0</td>\n      <td>0</td>\n      <td>0</td>\n      <td>0</td>\n      <td>0</td>\n      <td>0</td>\n    </tr>\n    <tr>\n      <th>1</th>\n      <td>0</td>\n      <td>0</td>\n      <td>0</td>\n      <td>0</td>\n      <td>0</td>\n      <td>0</td>\n      <td>0</td>\n      <td>0</td>\n      <td>0</td>\n      <td>0</td>\n      <td>...</td>\n      <td>0</td>\n      <td>0</td>\n      <td>0</td>\n      <td>0</td>\n      <td>0</td>\n      <td>0</td>\n      <td>0</td>\n      <td>0</td>\n      <td>0</td>\n      <td>0</td>\n    </tr>\n    <tr>\n      <th>2</th>\n      <td>0</td>\n      <td>0</td>\n      <td>0</td>\n      <td>0</td>\n      <td>0</td>\n      <td>0</td>\n      <td>0</td>\n      <td>0</td>\n      <td>0</td>\n      <td>0</td>\n      <td>...</td>\n      <td>0</td>\n      <td>0</td>\n      <td>0</td>\n      <td>0</td>\n      <td>0</td>\n      <td>0</td>\n      <td>0</td>\n      <td>0</td>\n      <td>0</td>\n      <td>0</td>\n    </tr>\n    <tr>\n      <th>3</th>\n      <td>0</td>\n      <td>0</td>\n      <td>0</td>\n      <td>0</td>\n      <td>0</td>\n      <td>0</td>\n      <td>0</td>\n      <td>0</td>\n      <td>0</td>\n      <td>0</td>\n      <td>...</td>\n      <td>0</td>\n      <td>0</td>\n      <td>0</td>\n      <td>0</td>\n      <td>0</td>\n      <td>0</td>\n      <td>0</td>\n      <td>0</td>\n      <td>0</td>\n      <td>0</td>\n    </tr>\n    <tr>\n      <th>4</th>\n      <td>0</td>\n      <td>0</td>\n      <td>0</td>\n      <td>0</td>\n      <td>0</td>\n      <td>0</td>\n      <td>0</td>\n      <td>0</td>\n      <td>0</td>\n      <td>0</td>\n      <td>...</td>\n      <td>0</td>\n      <td>0</td>\n      <td>0</td>\n      <td>0</td>\n      <td>0</td>\n      <td>0</td>\n      <td>0</td>\n      <td>0</td>\n      <td>0</td>\n      <td>0</td>\n    </tr>\n  </tbody>\n</table>\n<p>5 rows × 784 columns</p>\n</div>"
          },
          "metadata": {}
        }
      ]
    },
    {
      "cell_type": "code",
      "source": [
        "x.shape, y.shape"
      ],
      "metadata": {
        "execution": {
          "iopub.status.busy": "2022-10-08T18:29:51.677683Z",
          "iopub.execute_input": "2022-10-08T18:29:51.678044Z",
          "iopub.status.idle": "2022-10-08T18:29:51.684624Z",
          "shell.execute_reply.started": "2022-10-08T18:29:51.678008Z",
          "shell.execute_reply": "2022-10-08T18:29:51.683517Z"
        },
        "trusted": true,
        "id": "PX4c7DEuIDfd",
        "outputId": "22099c0f-0b8b-42cb-cd62-7f1c1c13da0f"
      },
      "execution_count": null,
      "outputs": [
        {
          "execution_count": 7,
          "output_type": "execute_result",
          "data": {
            "text/plain": "((42000, 784), (42000,))"
          },
          "metadata": {}
        }
      ]
    },
    {
      "cell_type": "code",
      "source": [
        "# from here, seen that pixel values are int rather than float\n",
        "x.info()"
      ],
      "metadata": {
        "execution": {
          "iopub.status.busy": "2022-10-08T18:29:51.686388Z",
          "iopub.execute_input": "2022-10-08T18:29:51.686735Z",
          "iopub.status.idle": "2022-10-08T18:29:51.731101Z",
          "shell.execute_reply.started": "2022-10-08T18:29:51.686702Z",
          "shell.execute_reply": "2022-10-08T18:29:51.730136Z"
        },
        "trusted": true,
        "id": "dvZQqwAmIDfd",
        "outputId": "a4cc6930-0caa-4196-c901-7bd2ff229f6d"
      },
      "execution_count": null,
      "outputs": [
        {
          "name": "stdout",
          "text": "<class 'pandas.core.frame.DataFrame'>\nRangeIndex: 42000 entries, 0 to 41999\nColumns: 784 entries, pixel0 to pixel783\ndtypes: int64(784)\nmemory usage: 251.2 MB\n",
          "output_type": "stream"
        }
      ]
    },
    {
      "cell_type": "code",
      "source": [
        "print(\"classes are: \", np.unique(y.to_numpy()))\n",
        "print(\"num of classes are: \", len(np.unique(y.to_numpy())))"
      ],
      "metadata": {
        "execution": {
          "iopub.status.busy": "2022-10-08T18:29:51.732553Z",
          "iopub.execute_input": "2022-10-08T18:29:51.732879Z",
          "iopub.status.idle": "2022-10-08T18:29:51.741601Z",
          "shell.execute_reply.started": "2022-10-08T18:29:51.732847Z",
          "shell.execute_reply": "2022-10-08T18:29:51.740635Z"
        },
        "trusted": true,
        "id": "98xM4fPHIDfe",
        "outputId": "f533f4f3-2c9b-4bc1-9a92-fcb319ae2d14"
      },
      "execution_count": null,
      "outputs": [
        {
          "name": "stdout",
          "text": "classes are:  [0 1 2 3 4 5 6 7 8 9]\nnum of classes are:  10\n",
          "output_type": "stream"
        }
      ]
    },
    {
      "cell_type": "code",
      "source": [
        "# range of pixels is 0 - 255 which will be scaled t be within 0 and 1\n",
        "x.to_numpy().min(), x.to_numpy().max()"
      ],
      "metadata": {
        "execution": {
          "iopub.status.busy": "2022-10-08T18:29:51.742805Z",
          "iopub.execute_input": "2022-10-08T18:29:51.744225Z",
          "iopub.status.idle": "2022-10-08T18:29:51.816451Z",
          "shell.execute_reply.started": "2022-10-08T18:29:51.744186Z",
          "shell.execute_reply": "2022-10-08T18:29:51.815549Z"
        },
        "trusted": true,
        "id": "6PfdFgsdIDff",
        "outputId": "7e44737b-01d9-4233-ae54-4f8e8c6259e5"
      },
      "execution_count": null,
      "outputs": [
        {
          "execution_count": 10,
          "output_type": "execute_result",
          "data": {
            "text/plain": "(0, 255)"
          },
          "metadata": {}
        }
      ]
    },
    {
      "cell_type": "code",
      "source": [
        "# plot single X and Y label\n",
        "idx = 10\n",
        "img = x.to_numpy()[idx].reshape(28, 28, 1)\n",
        "num = y[idx]\n",
        "\n",
        "img = array_to_img(img)\n",
        "\n",
        "plt.imshow(img, cmap = \"gray\")\n",
        "plt.title(f\"label is : {num}\")\n",
        "plt.axis(\"off\")"
      ],
      "metadata": {
        "execution": {
          "iopub.status.busy": "2022-10-08T18:29:51.817869Z",
          "iopub.execute_input": "2022-10-08T18:29:51.818274Z",
          "iopub.status.idle": "2022-10-08T18:29:51.944375Z",
          "shell.execute_reply.started": "2022-10-08T18:29:51.818236Z",
          "shell.execute_reply": "2022-10-08T18:29:51.943237Z"
        },
        "trusted": true,
        "id": "FCVZrMOSIDff",
        "outputId": "1f9d27a5-39e3-4c12-b1f6-99ea2e2cc19f"
      },
      "execution_count": null,
      "outputs": [
        {
          "execution_count": 11,
          "output_type": "execute_result",
          "data": {
            "text/plain": "(-0.5, 27.5, 27.5, -0.5)"
          },
          "metadata": {}
        },
        {
          "output_type": "display_data",
          "data": {
            "text/plain": "<Figure size 432x288 with 1 Axes>",
            "image/png": "[encoded data removed]"
          },
          "metadata": {
            "needs_background": "light"
          }
        }
      ]
    },
    {
      "cell_type": "code",
      "source": [
        "# seen that majority of data belongs that class 1\n",
        "sns.countplot(x = y)"
      ],
      "metadata": {
        "execution": {
          "iopub.status.busy": "2022-10-08T18:29:51.946141Z",
          "iopub.execute_input": "2022-10-08T18:29:51.946467Z",
          "iopub.status.idle": "2022-10-08T18:29:52.185709Z",
          "shell.execute_reply.started": "2022-10-08T18:29:51.946435Z",
          "shell.execute_reply": "2022-10-08T18:29:52.184586Z"
        },
        "trusted": true,
        "id": "ZOeCWcgWIDfg",
        "outputId": "8ae77773-c00e-41ab-c770-a6f6e4ddc0b9"
      },
      "execution_count": null,
      "outputs": [
        {
          "execution_count": 12,
          "output_type": "execute_result",
          "data": {
            "text/plain": "<AxesSubplot:xlabel='label', ylabel='count'>"
          },
          "metadata": {}
        },
        {
          "output_type": "display_data",
          "data": {
            "text/plain": "<Figure size 432x288 with 1 Axes>",
            "image/png": "[encoded data removed]"
          },
          "metadata": {
            "needs_background": "light"
          }
        }
      ]
    },
    {
      "cell_type": "code",
      "source": [
        "# to check for rows with nan values\n",
        "# we appear to be good\n",
        "x[x.isnull().any(axis = 1)]"
      ],
      "metadata": {
        "execution": {
          "iopub.status.busy": "2022-10-08T18:29:52.189994Z",
          "iopub.execute_input": "2022-10-08T18:29:52.190289Z",
          "iopub.status.idle": "2022-10-08T18:29:52.212549Z",
          "shell.execute_reply.started": "2022-10-08T18:29:52.190262Z",
          "shell.execute_reply": "2022-10-08T18:29:52.211509Z"
        },
        "trusted": true,
        "id": "yk812xKnIDfh",
        "outputId": "26324478-42e3-4e56-9278-cfa89041dec1"
      },
      "execution_count": null,
      "outputs": [
        {
          "execution_count": 13,
          "output_type": "execute_result",
          "data": {
            "text/plain": "Empty DataFrame\nColumns: [pixel0, pixel1, pixel2, pixel3, pixel4, pixel5, pixel6, pixel7, pixel8, pixel9, pixel10, pixel11, pixel12, pixel13, pixel14, pixel15, pixel16, pixel17, pixel18, pixel19, pixel20, pixel21, pixel22, pixel23, pixel24, pixel25, pixel26, pixel27, pixel28, pixel29, pixel30, pixel31, pixel32, pixel33, pixel34, pixel35, pixel36, pixel37, pixel38, pixel39, pixel40, pixel41, pixel42, pixel43, pixel44, pixel45, pixel46, pixel47, pixel48, pixel49, pixel50, pixel51, pixel52, pixel53, pixel54, pixel55, pixel56, pixel57, pixel58, pixel59, pixel60, pixel61, pixel62, pixel63, pixel64, pixel65, pixel66, pixel67, pixel68, pixel69, pixel70, pixel71, pixel72, pixel73, pixel74, pixel75, pixel76, pixel77, pixel78, pixel79, pixel80, pixel81, pixel82, pixel83, pixel84, pixel85, pixel86, pixel87, pixel88, pixel89, pixel90, pixel91, pixel92, pixel93, pixel94, pixel95, pixel96, pixel97, pixel98, pixel99, ...]\nIndex: []\n\n[0 rows x 784 columns]",
            "text/html": "<div>\n<style scoped>\n    .dataframe tbody tr th:only-of-type {\n        vertical-align: middle;\n    }\n\n    .dataframe tbody tr th {\n        vertical-align: top;\n    }\n\n    .dataframe thead th {\n        text-align: right;\n    }\n</style>\n<table border=\"1\" class=\"dataframe\">\n  <thead>\n    <tr style=\"text-align: right;\">\n      <th></th>\n      <th>pixel0</th>\n      <th>pixel1</th>\n      <th>pixel2</th>\n      <th>pixel3</th>\n      <th>pixel4</th>\n      <th>pixel5</th>\n      <th>pixel6</th>\n      <th>pixel7</th>\n      <th>pixel8</th>\n      <th>pixel9</th>\n      <th>...</th>\n      <th>pixel774</th>\n      <th>pixel775</th>\n      <th>pixel776</th>\n      <th>pixel777</th>\n      <th>pixel778</th>\n      <th>pixel779</th>\n      <th>pixel780</th>\n      <th>pixel781</th>\n      <th>pixel782</th>\n      <th>pixel783</th>\n    </tr>\n  </thead>\n  <tbody>\n  </tbody>\n</table>\n<p>0 rows × 784 columns</p>\n</div>"
          },
          "metadata": {}
        }
      ]
    },
    {
      "cell_type": "markdown",
      "source": [
        "## Preprocess data"
      ],
      "metadata": {
        "id": "UXnLVYS6IDfh"
      }
    },
    {
      "cell_type": "code",
      "source": [
        "# reshape x to be 28 * 28 and of type float\n",
        "images = x.to_numpy().reshape(-1, 28, 28).astype(\"float64\")\n",
        "labels = y.to_numpy()"
      ],
      "metadata": {
        "execution": {
          "iopub.status.busy": "2022-10-08T18:29:52.214039Z",
          "iopub.execute_input": "2022-10-08T18:29:52.214500Z",
          "iopub.status.idle": "2022-10-08T18:29:52.304814Z",
          "shell.execute_reply.started": "2022-10-08T18:29:52.214464Z",
          "shell.execute_reply": "2022-10-08T18:29:52.302481Z"
        },
        "trusted": true,
        "id": "RqzfPaUPIDfi"
      },
      "execution_count": null,
      "outputs": []
    },
    {
      "cell_type": "code",
      "source": [
        "images.shape, labels.shape"
      ],
      "metadata": {
        "execution": {
          "iopub.status.busy": "2022-10-08T18:29:52.310523Z",
          "iopub.execute_input": "2022-10-08T18:29:52.313175Z",
          "iopub.status.idle": "2022-10-08T18:29:52.323242Z",
          "shell.execute_reply.started": "2022-10-08T18:29:52.313118Z",
          "shell.execute_reply": "2022-10-08T18:29:52.322000Z"
        },
        "trusted": true,
        "id": "5Enihp90IDfi",
        "outputId": "63a22763-03c2-429e-ffe1-123096af0782"
      },
      "execution_count": null,
      "outputs": [
        {
          "execution_count": 15,
          "output_type": "execute_result",
          "data": {
            "text/plain": "((42000, 28, 28), (42000,))"
          },
          "metadata": {}
        }
      ]
    },
    {
      "cell_type": "code",
      "source": [
        "# helper to viz images and labels\n",
        "def plot_cat(images, labels):\n",
        "  fig, axes = plt.subplots(1, 5, figsize = (16,15))\n",
        "  axes = axes.ravel()\n",
        "\n",
        "  for k in range(5):\n",
        "    img = images[k]\n",
        "    img = np.expand_dims(img, axis = -1)\n",
        "    img = array_to_img(img)\n",
        "    ax = axes[k]\n",
        "\n",
        "    ax.imshow(img, cmap = \"gray\")\n",
        "    ax.set_title(f\"num: {labels[k]}\")\n",
        "    ax.set_axis_off()\n",
        "\n",
        "  plt.tight_layout()\n",
        "  plt.show()\n",
        "\n",
        "plot_cat(images, labels)"
      ],
      "metadata": {
        "execution": {
          "iopub.status.busy": "2022-10-08T18:29:52.324879Z",
          "iopub.execute_input": "2022-10-08T18:29:52.326013Z",
          "iopub.status.idle": "2022-10-08T18:29:52.742989Z",
          "shell.execute_reply.started": "2022-10-08T18:29:52.325978Z",
          "shell.execute_reply": "2022-10-08T18:29:52.742023Z"
        },
        "trusted": true,
        "id": "M3IlRnA7IDfj",
        "outputId": "2c61fe43-d695-4cc9-cb85-5382bf9aa3f8"
      },
      "execution_count": null,
      "outputs": [
        {
          "output_type": "display_data",
          "data": {
            "text/plain": "<Figure size 1152x1080 with 5 Axes>",
            "image/png": "[encoded data removed]"
          },
          "metadata": {
            "needs_background": "light"
          }
        }
      ]
    },
    {
      "cell_type": "code",
      "source": [
        "# split data into train and eval\n",
        "# x_train, x_val, y_train, y_val = train_test_split(images, labels, test_size = 0.25, shuffle = True, random_state = 40)\n",
        "\n",
        "n_splits = 1\n",
        "split = StratifiedShuffleSplit(n_splits = n_splits, test_size = 0.1, random_state = 40)\n",
        "\n",
        "for train_idx, val_idx in split.split(images, labels):\n",
        "    x_train, x_val = images[train_idx], images[val_idx] \n",
        "    y_train, y_val = labels[train_idx], labels[val_idx]\n",
        "\n",
        "\n",
        "len(x_train), len(x_val)"
      ],
      "metadata": {
        "execution": {
          "iopub.status.busy": "2022-10-08T18:29:52.744229Z",
          "iopub.execute_input": "2022-10-08T18:29:52.744771Z",
          "iopub.status.idle": "2022-10-08T18:29:53.164996Z",
          "shell.execute_reply.started": "2022-10-08T18:29:52.744736Z",
          "shell.execute_reply": "2022-10-08T18:29:53.164114Z"
        },
        "trusted": true,
        "id": "fMzpTV9YIDfj",
        "outputId": "40c3d70a-59ff-44f3-bfaa-c0d91e50d9e5"
      },
      "execution_count": null,
      "outputs": [
        {
          "execution_count": 17,
          "output_type": "execute_result",
          "data": {
            "text/plain": "(37800, 4200)"
          },
          "metadata": {}
        }
      ]
    },
    {
      "cell_type": "code",
      "source": [
        "plt.title(\"Train dataset label distribution\")\n",
        "sns.countplot(x = y_train)\n",
        "\n",
        "plt.figure()\n",
        "\n",
        "plt.title(\"Validation dataset label distribution\")\n",
        "sns.countplot(x = y_val)\n",
        "\n",
        "# Excellent same distro of y in train data is same as that of validation data"
      ],
      "metadata": {
        "execution": {
          "iopub.status.busy": "2022-10-08T18:29:55.231415Z",
          "iopub.execute_input": "2022-10-08T18:29:55.231788Z",
          "iopub.status.idle": "2022-10-08T18:29:55.654052Z",
          "shell.execute_reply.started": "2022-10-08T18:29:55.231756Z",
          "shell.execute_reply": "2022-10-08T18:29:55.653003Z"
        },
        "trusted": true,
        "id": "M908kzz7IDfk",
        "outputId": "f4cd09bd-fb1b-48b5-f25a-29ce2e478c32"
      },
      "execution_count": null,
      "outputs": [
        {
          "execution_count": 18,
          "output_type": "execute_result",
          "data": {
            "text/plain": "<AxesSubplot:title={'center':'Validation dataset label distribution'}, ylabel='count'>"
          },
          "metadata": {}
        },
        {
          "output_type": "display_data",
          "data": {
            "text/plain": "<Figure size 432x288 with 1 Axes>",
            "image/png": "[encoded data removed]"
          },
          "metadata": {
            "needs_background": "light"
          }
        },
        {
          "output_type": "display_data",
          "data": {
            "text/plain": "<Figure size 432x288 with 1 Axes>",
            "image/png": "[encoded data removed]"
          },
          "metadata": {
            "needs_background": "light"
          }
        }
      ]
    },
    {
      "cell_type": "code",
      "source": [
        "# helper to get train and val generators\n",
        "def train_val_generators(x_train, y_train, x_val, y_val):\n",
        "\n",
        "  # adds 1 to x_train to denote the color channels which is 1 i.e gray scale image\n",
        "  x_train = x_train[..., np.newaxis]\n",
        "  x_val = x_val[..., np.newaxis]\n",
        "\n",
        "  train_datagen = ImageDataGenerator(\n",
        "      rescale = 1/255.,\n",
        "      width_shift_range = 0.1,\n",
        "      height_shift_range = 0.1,\n",
        "      zoom_range = 0.1,\n",
        "      rotation_range = 10,\n",
        "      shear_range = 0.1,\n",
        "      fill_mode = \"nearest\"\n",
        "  )\n",
        "\n",
        "  val_datagen = ImageDataGenerator(rescale = 1/255.)\n",
        "\n",
        "  train_generator = train_datagen.flow(x = x_train,\n",
        "                                       y = y_train,\n",
        "                                       batch_size = 64)\n",
        "  \n",
        "  val_generator = val_datagen.flow(x = x_val, y = y_val, batch_size = 32)\n",
        "\n",
        "  return train_generator, val_generator"
      ],
      "metadata": {
        "execution": {
          "iopub.status.busy": "2022-10-08T18:29:55.656428Z",
          "iopub.execute_input": "2022-10-08T18:29:55.657155Z",
          "iopub.status.idle": "2022-10-08T18:29:55.664249Z",
          "shell.execute_reply.started": "2022-10-08T18:29:55.657116Z",
          "shell.execute_reply": "2022-10-08T18:29:55.663198Z"
        },
        "trusted": true,
        "id": "2WjH0O2ZIDfk"
      },
      "execution_count": null,
      "outputs": []
    },
    {
      "cell_type": "code",
      "source": [
        "train_generator, val_generator = train_val_generators(x_train, y_train, x_val, y_val)\n",
        "\n",
        "print(f\"Images of training generator have shape: {train_generator.x.shape}\")\n",
        "print(f\"Labels of training generator have shape: {train_generator.y.shape}\")\n",
        "print(f\"Images of validation generator have shape: {val_generator.x.shape}\")\n",
        "print(f\"Labels of validation generator have shape: {val_generator.y.shape}\")"
      ],
      "metadata": {
        "execution": {
          "iopub.status.busy": "2022-10-08T18:29:55.952837Z",
          "iopub.execute_input": "2022-10-08T18:29:55.953533Z",
          "iopub.status.idle": "2022-10-08T18:29:56.012584Z",
          "shell.execute_reply.started": "2022-10-08T18:29:55.953488Z",
          "shell.execute_reply": "2022-10-08T18:29:56.011430Z"
        },
        "trusted": true,
        "id": "DmHzO4WfIDfl",
        "outputId": "796b9e51-f5b7-4425-e3f7-c3c1fbcade17"
      },
      "execution_count": null,
      "outputs": [
        {
          "name": "stdout",
          "text": "Images of training generator have shape: (37800, 28, 28, 1)\nLabels of training generator have shape: (37800,)\nImages of validation generator have shape: (4200, 28, 28, 1)\nLabels of validation generator have shape: (4200,)\n",
          "output_type": "stream"
        }
      ]
    },
    {
      "cell_type": "markdown",
      "source": [
        "### Create Model and Train"
      ],
      "metadata": {
        "id": "_7mrIs7jIDfm"
      }
    },
    {
      "cell_type": "code",
      "source": [
        "# build the model\n",
        "\n",
        "def create_model():\n",
        "    model = keras.models.Sequential([\n",
        "      \n",
        "        Input(shape  = [28, 28, 1]),\n",
        "          # Conv 1 block\n",
        "        Conv2D(32, (3, 3), activation=\"relu\", padding=\"same\"),\n",
        "        Conv2D(32, (3, 3), activation=\"relu\", padding=\"same\"),\n",
        "        MaxPooling2D(2, 2),\n",
        "        BatchNormalization(axis = -1),\n",
        "      \n",
        "        # Conv 2 block\n",
        "        Conv2D(64, (3, 3), activation=\"relu\", padding=\"same\"),\n",
        "        Conv2D(64, (3, 3), activation=\"relu\", padding=\"same\"),\n",
        "        MaxPooling2D(2, 2),\n",
        "        BatchNormalization(axis = -1),\n",
        "      \n",
        "        # Conv 3 block\n",
        "        Conv2D(128, (3, 3), activation=\"relu\", padding=\"same\"),\n",
        "        Conv2D(128, (3, 3), activation=\"relu\", padding=\"same\"),\n",
        "        MaxPooling2D(2, 2),\n",
        "        BatchNormalization(axis = -1),\n",
        "      \n",
        "        Flatten(),\n",
        "        \n",
        "        Dense(512, activation =\"relu\"),\n",
        "        BatchNormalization(),\n",
        "        Dropout(0.2),\n",
        "        \n",
        "        Dense(128, activation =\"relu\"),\n",
        "        BatchNormalization(),\n",
        "#         Dropout(0.1),\n",
        "        \n",
        "        Dense(10, activation=\"softmax\")\n",
        "    ])\n",
        "\n",
        "    \n",
        "    optimizer = Adam()\n",
        "\n",
        "    model.compile(optimizer = optimizer,\n",
        "                loss = \"sparse_categorical_crossentropy\",\n",
        "                metrics = [\"accuracy\"],\n",
        "                steps_per_execution = 1  # to denote number of steps before executing callbacks\n",
        "                 )\n",
        "\n",
        "    return model"
      ],
      "metadata": {
        "execution": {
          "iopub.status.busy": "2022-10-08T18:29:57.109871Z",
          "iopub.execute_input": "2022-10-08T18:29:57.110251Z",
          "iopub.status.idle": "2022-10-08T18:29:57.120415Z",
          "shell.execute_reply.started": "2022-10-08T18:29:57.110219Z",
          "shell.execute_reply": "2022-10-08T18:29:57.119399Z"
        },
        "trusted": true,
        "id": "zsiBJ6-cIDfm"
      },
      "execution_count": null,
      "outputs": []
    },
    {
      "cell_type": "code",
      "source": [
        "model = create_model()\n",
        "\n",
        "model.summary()"
      ],
      "metadata": {
        "execution": {
          "iopub.status.busy": "2022-10-08T18:29:57.611541Z",
          "iopub.execute_input": "2022-10-08T18:29:57.611899Z",
          "iopub.status.idle": "2022-10-08T18:30:00.406836Z",
          "shell.execute_reply.started": "2022-10-08T18:29:57.611868Z",
          "shell.execute_reply": "2022-10-08T18:30:00.405846Z"
        },
        "trusted": true,
        "id": "JIUtj1XmIDfn",
        "outputId": "c023cdc8-6b15-4bc7-d8b3-01d127cab6b8"
      },
      "execution_count": null,
      "outputs": [
        {
          "name": "stderr",
          "text": "2022-10-08 18:29:57.726180: I tensorflow/stream_executor/cuda/cuda_gpu_executor.cc:937] successful NUMA node read from SysFS had negative value (-1), but there must be at least one NUMA node, so returning NUMA node zero\n2022-10-08 18:29:57.817195: I tensorflow/stream_executor/cuda/cuda_gpu_executor.cc:937] successful NUMA node read from SysFS had negative value (-1), but there must be at least one NUMA node, so returning NUMA node zero\n2022-10-08 18:29:57.818021: I tensorflow/stream_executor/cuda/cuda_gpu_executor.cc:937] successful NUMA node read from SysFS had negative value (-1), but there must be at least one NUMA node, so returning NUMA node zero\n2022-10-08 18:29:57.819824: I tensorflow/core/platform/cpu_feature_guard.cc:142] This TensorFlow binary is optimized with oneAPI Deep Neural Network Library (oneDNN) to use the following CPU instructions in performance-critical operations:  AVX2 AVX512F FMA\nTo enable them in other operations, rebuild TensorFlow with the appropriate compiler flags.\n2022-10-08 18:29:57.820147: I tensorflow/stream_executor/cuda/cuda_gpu_executor.cc:937] successful NUMA node read from SysFS had negative value (-1), but there must be at least one NUMA node, so returning NUMA node zero\n2022-10-08 18:29:57.820848: I tensorflow/stream_executor/cuda/cuda_gpu_executor.cc:937] successful NUMA node read from SysFS had negative value (-1), but there must be at least one NUMA node, so returning NUMA node zero\n2022-10-08 18:29:57.821524: I tensorflow/stream_executor/cuda/cuda_gpu_executor.cc:937] successful NUMA node read from SysFS had negative value (-1), but there must be at least one NUMA node, so returning NUMA node zero\n2022-10-08 18:29:59.901026: I tensorflow/stream_executor/cuda/cuda_gpu_executor.cc:937] successful NUMA node read from SysFS had negative value (-1), but there must be at least one NUMA node, so returning NUMA node zero\n2022-10-08 18:29:59.901961: I tensorflow/stream_executor/cuda/cuda_gpu_executor.cc:937] successful NUMA node read from SysFS had negative value (-1), but there must be at least one NUMA node, so returning NUMA node zero\n2022-10-08 18:29:59.902645: I tensorflow/stream_executor/cuda/cuda_gpu_executor.cc:937] successful NUMA node read from SysFS had negative value (-1), but there must be at least one NUMA node, so returning NUMA node zero\n2022-10-08 18:29:59.903237: I tensorflow/core/common_runtime/gpu/gpu_device.cc:1510] Created device /job:localhost/replica:0/task:0/device:GPU:0 with 15401 MB memory:  -> device: 0, name: Tesla P100-PCIE-16GB, pci bus id: 0000:00:04.0, compute capability: 6.0\n",
          "output_type": "stream"
        },
        {
          "name": "stdout",
          "text": "Model: \"sequential\"\n_________________________________________________________________\nLayer (type)                 Output Shape              Param #   \n=================================================================\nconv2d (Conv2D)              (None, 28, 28, 32)        320       \n_________________________________________________________________\nconv2d_1 (Conv2D)            (None, 28, 28, 32)        9248      \n_________________________________________________________________\nmax_pooling2d (MaxPooling2D) (None, 14, 14, 32)        0         \n_________________________________________________________________\nbatch_normalization (BatchNo (None, 14, 14, 32)        128       \n_________________________________________________________________\nconv2d_2 (Conv2D)            (None, 14, 14, 64)        18496     \n_________________________________________________________________\nconv2d_3 (Conv2D)            (None, 14, 14, 64)        36928     \n_________________________________________________________________\nmax_pooling2d_1 (MaxPooling2 (None, 7, 7, 64)          0         \n_________________________________________________________________\nbatch_normalization_1 (Batch (None, 7, 7, 64)          256       \n_________________________________________________________________\nconv2d_4 (Conv2D)            (None, 7, 7, 128)         73856     \n_________________________________________________________________\nconv2d_5 (Conv2D)            (None, 7, 7, 128)         147584    \n_________________________________________________________________\nmax_pooling2d_2 (MaxPooling2 (None, 3, 3, 128)         0         \n_________________________________________________________________\nbatch_normalization_2 (Batch (None, 3, 3, 128)         512       \n_________________________________________________________________\nflatten (Flatten)            (None, 1152)              0         \n_________________________________________________________________\ndense (Dense)                (None, 512)               590336    \n_________________________________________________________________\nbatch_normalization_3 (Batch (None, 512)               2048      \n_________________________________________________________________\ndropout (Dropout)            (None, 512)               0         \n_________________________________________________________________\ndense_1 (Dense)              (None, 128)               65664     \n_________________________________________________________________\nbatch_normalization_4 (Batch (None, 128)               512       \n_________________________________________________________________\ndense_2 (Dense)              (None, 10)                1290      \n=================================================================\nTotal params: 947,178\nTrainable params: 945,450\nNon-trainable params: 1,728\n_________________________________________________________________\n",
          "output_type": "stream"
        }
      ]
    },
    {
      "cell_type": "code",
      "source": [
        "# custom learning rate scheduler\n",
        "def scheduler(epoch, lr):\n",
        "    if epoch < 10:\n",
        "        return lr\n",
        "    else:\n",
        "        return lr * tf.math.exp(-0.1)"
      ],
      "metadata": {
        "execution": {
          "iopub.status.busy": "2022-10-08T18:30:00.408908Z",
          "iopub.execute_input": "2022-10-08T18:30:00.409305Z",
          "iopub.status.idle": "2022-10-08T18:30:00.416552Z",
          "shell.execute_reply.started": "2022-10-08T18:30:00.409268Z",
          "shell.execute_reply": "2022-10-08T18:30:00.415669Z"
        },
        "trusted": true,
        "id": "ZmDVFqR9IDfn"
      },
      "execution_count": null,
      "outputs": []
    },
    {
      "cell_type": "code",
      "source": [
        "learning_rate_scheduler = LearningRateScheduler(schedule=scheduler)\n",
        "chkpt = ModelCheckpoint(filepath = \"best_model_trained\", save_best_only = True, \n",
        "                        save_weights_only=True)\n",
        "    \n",
        "# determines how muchb do reduce our learning rate, when it appears to not be learning\n",
        "# i.e loss is static meaning we are in a plateau\n",
        "reduce_lr_on_plateau = ReduceLROnPlateau(monitor = \"val_loss\", factor = 0.1, patience = 6, verbose=3)\n",
        "\n",
        "history = model.fit(train_generator, \n",
        "                    validation_data = val_generator,\n",
        "                    epochs = 45,\n",
        "                    callbacks = [learning_rate_scheduler, chkpt, reduce_lr_on_plateau]\n",
        "                   )"
      ],
      "metadata": {
        "execution": {
          "iopub.status.busy": "2022-10-08T18:30:00.418719Z",
          "iopub.execute_input": "2022-10-08T18:30:00.418981Z",
          "iopub.status.idle": "2022-10-08T18:40:04.641954Z",
          "shell.execute_reply.started": "2022-10-08T18:30:00.418957Z",
          "shell.execute_reply": "2022-10-08T18:40:04.640985Z"
        },
        "trusted": true,
        "id": "5BQHcAe3IDfo",
        "outputId": "e25377d9-c7e8-45fb-8d65-21b783871d7c"
      },
      "execution_count": null,
      "outputs": [
        {
          "name": "stdout",
          "text": "Epoch 1/45\n",
          "output_type": "stream"
        },
        {
          "name": "stderr",
          "text": "2022-10-08 18:30:00.509156: I tensorflow/compiler/mlir/mlir_graph_optimization_pass.cc:185] None of the MLIR Optimization Passes are enabled (registered 2)\n2022-10-08 18:30:02.399744: I tensorflow/stream_executor/cuda/cuda_dnn.cc:369] Loaded cuDNN version 8005\n",
          "output_type": "stream"
        },
        {
          "name": "stdout",
          "text": "591/591 [==============================] - 23s 25ms/step - loss: 0.1760 - accuracy: 0.9452 - val_loss: 0.0640 - val_accuracy: 0.9810\nEpoch 2/45\n591/591 [==============================] - 13s 22ms/step - loss: 0.0699 - accuracy: 0.9784 - val_loss: 0.0502 - val_accuracy: 0.9840\nEpoch 3/45\n591/591 [==============================] - 14s 23ms/step - loss: 0.0560 - accuracy: 0.9823 - val_loss: 0.0446 - val_accuracy: 0.9860\nEpoch 4/45\n591/591 [==============================] - 13s 22ms/step - loss: 0.0501 - accuracy: 0.9837 - val_loss: 0.0441 - val_accuracy: 0.9860\nEpoch 5/45\n591/591 [==============================] - 13s 23ms/step - loss: 0.0424 - accuracy: 0.9868 - val_loss: 0.0616 - val_accuracy: 0.9798\nEpoch 6/45\n591/591 [==============================] - 13s 22ms/step - loss: 0.0366 - accuracy: 0.9885 - val_loss: 0.0961 - val_accuracy: 0.9702\nEpoch 7/45\n591/591 [==============================] - 14s 24ms/step - loss: 0.0376 - accuracy: 0.9881 - val_loss: 0.0217 - val_accuracy: 0.9938\nEpoch 8/45\n591/591 [==============================] - 13s 22ms/step - loss: 0.0336 - accuracy: 0.9892 - val_loss: 0.0339 - val_accuracy: 0.9890\nEpoch 9/45\n591/591 [==============================] - 13s 22ms/step - loss: 0.0322 - accuracy: 0.9902 - val_loss: 0.0280 - val_accuracy: 0.9917\nEpoch 10/45\n591/591 [==============================] - 14s 23ms/step - loss: 0.0303 - accuracy: 0.9907 - val_loss: 0.0369 - val_accuracy: 0.9895\nEpoch 11/45\n591/591 [==============================] - 13s 22ms/step - loss: 0.0274 - accuracy: 0.9914 - val_loss: 0.0289 - val_accuracy: 0.9900\nEpoch 12/45\n591/591 [==============================] - 14s 24ms/step - loss: 0.0227 - accuracy: 0.9928 - val_loss: 0.0246 - val_accuracy: 0.9919\nEpoch 13/45\n591/591 [==============================] - 13s 22ms/step - loss: 0.0229 - accuracy: 0.9931 - val_loss: 0.0182 - val_accuracy: 0.9938\nEpoch 14/45\n591/591 [==============================] - 13s 22ms/step - loss: 0.0203 - accuracy: 0.9935 - val_loss: 0.0173 - val_accuracy: 0.9948\nEpoch 15/45\n591/591 [==============================] - 13s 23ms/step - loss: 0.0171 - accuracy: 0.9946 - val_loss: 0.0189 - val_accuracy: 0.9931\nEpoch 16/45\n591/591 [==============================] - 13s 22ms/step - loss: 0.0150 - accuracy: 0.9954 - val_loss: 0.0203 - val_accuracy: 0.9943\nEpoch 17/45\n591/591 [==============================] - 14s 24ms/step - loss: 0.0153 - accuracy: 0.9954 - val_loss: 0.0193 - val_accuracy: 0.9945\nEpoch 18/45\n591/591 [==============================] - 13s 22ms/step - loss: 0.0132 - accuracy: 0.9960 - val_loss: 0.0145 - val_accuracy: 0.9950\nEpoch 19/45\n591/591 [==============================] - 13s 22ms/step - loss: 0.0104 - accuracy: 0.9967 - val_loss: 0.0120 - val_accuracy: 0.9960\nEpoch 20/45\n591/591 [==============================] - 13s 21ms/step - loss: 0.0104 - accuracy: 0.9966 - val_loss: 0.0208 - val_accuracy: 0.9933\nEpoch 21/45\n591/591 [==============================] - 13s 22ms/step - loss: 0.0096 - accuracy: 0.9971 - val_loss: 0.0141 - val_accuracy: 0.9943\nEpoch 22/45\n591/591 [==============================] - 14s 23ms/step - loss: 0.0084 - accuracy: 0.9973 - val_loss: 0.0136 - val_accuracy: 0.9952\nEpoch 23/45\n591/591 [==============================] - 13s 21ms/step - loss: 0.0088 - accuracy: 0.9974 - val_loss: 0.0155 - val_accuracy: 0.9950\nEpoch 24/45\n591/591 [==============================] - 14s 23ms/step - loss: 0.0062 - accuracy: 0.9981 - val_loss: 0.0124 - val_accuracy: 0.9957\nEpoch 25/45\n591/591 [==============================] - 13s 21ms/step - loss: 0.0069 - accuracy: 0.9978 - val_loss: 0.0158 - val_accuracy: 0.9955\n\nEpoch 00025: ReduceLROnPlateau reducing learning rate to 2.2312992950901392e-05.\nEpoch 26/45\n591/591 [==============================] - 13s 22ms/step - loss: 0.0054 - accuracy: 0.9985 - val_loss: 0.0150 - val_accuracy: 0.9960\nEpoch 27/45\n591/591 [==============================] - 14s 24ms/step - loss: 0.0045 - accuracy: 0.9987 - val_loss: 0.0142 - val_accuracy: 0.9962\nEpoch 28/45\n591/591 [==============================] - 13s 22ms/step - loss: 0.0047 - accuracy: 0.9989 - val_loss: 0.0140 - val_accuracy: 0.9962\nEpoch 29/45\n591/591 [==============================] - 13s 22ms/step - loss: 0.0043 - accuracy: 0.9988 - val_loss: 0.0135 - val_accuracy: 0.9964\nEpoch 30/45\n591/591 [==============================] - 13s 22ms/step - loss: 0.0050 - accuracy: 0.9987 - val_loss: 0.0136 - val_accuracy: 0.9964\nEpoch 31/45\n591/591 [==============================] - 13s 23ms/step - loss: 0.0040 - accuracy: 0.9989 - val_loss: 0.0136 - val_accuracy: 0.9967\n\nEpoch 00031: ReduceLROnPlateau reducing learning rate to 1.2245626749063378e-06.\nEpoch 32/45\n591/591 [==============================] - 13s 23ms/step - loss: 0.0038 - accuracy: 0.9990 - val_loss: 0.0135 - val_accuracy: 0.9964\nEpoch 33/45\n591/591 [==============================] - 13s 22ms/step - loss: 0.0046 - accuracy: 0.9987 - val_loss: 0.0135 - val_accuracy: 0.9964\nEpoch 34/45\n591/591 [==============================] - 13s 22ms/step - loss: 0.0038 - accuracy: 0.9990 - val_loss: 0.0136 - val_accuracy: 0.9964\nEpoch 35/45\n591/591 [==============================] - 13s 21ms/step - loss: 0.0045 - accuracy: 0.9987 - val_loss: 0.0133 - val_accuracy: 0.9967\nEpoch 36/45\n591/591 [==============================] - 13s 23ms/step - loss: 0.0042 - accuracy: 0.9986 - val_loss: 0.0134 - val_accuracy: 0.9964\nEpoch 37/45\n591/591 [==============================] - 13s 22ms/step - loss: 0.0039 - accuracy: 0.9988 - val_loss: 0.0134 - val_accuracy: 0.9962\n\nEpoch 00037: ReduceLROnPlateau reducing learning rate to 6.720539431626094e-08.\nEpoch 38/45\n591/591 [==============================] - 13s 22ms/step - loss: 0.0042 - accuracy: 0.9988 - val_loss: 0.0134 - val_accuracy: 0.9964\nEpoch 39/45\n591/591 [==============================] - 14s 23ms/step - loss: 0.0041 - accuracy: 0.9985 - val_loss: 0.0136 - val_accuracy: 0.9964\nEpoch 40/45\n591/591 [==============================] - 13s 22ms/step - loss: 0.0039 - accuracy: 0.9989 - val_loss: 0.0134 - val_accuracy: 0.9967\nEpoch 41/45\n591/591 [==============================] - 13s 22ms/step - loss: 0.0039 - accuracy: 0.9989 - val_loss: 0.0135 - val_accuracy: 0.9964\nEpoch 42/45\n591/591 [==============================] - 13s 22ms/step - loss: 0.0042 - accuracy: 0.9988 - val_loss: 0.0134 - val_accuracy: 0.9964\nEpoch 43/45\n591/591 [==============================] - 14s 23ms/step - loss: 0.0041 - accuracy: 0.9988 - val_loss: 0.0134 - val_accuracy: 0.9967\n\nEpoch 00043: ReduceLROnPlateau reducing learning rate to 3.6883090359651763e-09.\nEpoch 44/45\n591/591 [==============================] - 13s 22ms/step - loss: 0.0040 - accuracy: 0.9989 - val_loss: 0.0134 - val_accuracy: 0.9964\nEpoch 45/45\n591/591 [==============================] - 13s 22ms/step - loss: 0.0043 - accuracy: 0.9987 - val_loss: 0.0135 - val_accuracy: 0.9964\n",
          "output_type": "stream"
        }
      ]
    },
    {
      "cell_type": "code",
      "source": [
        "# New best baseline =  0.9955238103866577\n",
        "\n",
        "# bestto use f1_score and recall to rate this below\n",
        "\n",
        "model.evaluate(val_generator)"
      ],
      "metadata": {
        "execution": {
          "iopub.status.busy": "2022-10-08T18:40:08.004265Z",
          "iopub.execute_input": "2022-10-08T18:40:08.004653Z",
          "iopub.status.idle": "2022-10-08T18:40:08.884156Z",
          "shell.execute_reply.started": "2022-10-08T18:40:08.004620Z",
          "shell.execute_reply": "2022-10-08T18:40:08.881025Z"
        },
        "trusted": true,
        "id": "AdX9_0nMIDfo",
        "outputId": "e658fb46-b681-4396-fa10-1815ca4dad6c"
      },
      "execution_count": null,
      "outputs": [
        {
          "name": "stdout",
          "text": "132/132 [==============================] - 1s 6ms/step - loss: 0.0135 - accuracy: 0.9964\n",
          "output_type": "stream"
        },
        {
          "execution_count": 26,
          "output_type": "execute_result",
          "data": {
            "text/plain": "[0.013461632654070854, 0.9964285492897034]"
          },
          "metadata": {}
        }
      ]
    },
    {
      "cell_type": "markdown",
      "source": [
        "#### Eval Model"
      ],
      "metadata": {
        "id": "WTcQ2Vz_IDfp"
      }
    },
    {
      "cell_type": "code",
      "source": [
        "sample = x_val[20: 30] / 255.\n",
        "\n",
        "predictions = np.argmax(model.predict(sample.reshape(-1, 28, 28, 1)), axis = 1)"
      ],
      "metadata": {
        "execution": {
          "iopub.status.busy": "2022-10-08T18:40:15.274944Z",
          "iopub.execute_input": "2022-10-08T18:40:15.275530Z",
          "iopub.status.idle": "2022-10-08T18:40:15.563111Z",
          "shell.execute_reply.started": "2022-10-08T18:40:15.275495Z",
          "shell.execute_reply": "2022-10-08T18:40:15.562134Z"
        },
        "trusted": true,
        "id": "iLVQOnJrIDfp"
      },
      "execution_count": null,
      "outputs": []
    },
    {
      "cell_type": "code",
      "source": [
        "y_val[20:30]"
      ],
      "metadata": {
        "execution": {
          "iopub.status.busy": "2022-10-08T18:40:15.565822Z",
          "iopub.execute_input": "2022-10-08T18:40:15.566192Z",
          "iopub.status.idle": "2022-10-08T18:40:15.576037Z",
          "shell.execute_reply.started": "2022-10-08T18:40:15.566157Z",
          "shell.execute_reply": "2022-10-08T18:40:15.575109Z"
        },
        "trusted": true,
        "id": "t9zOI3C4IDfp",
        "outputId": "f50c0609-ff91-4ece-f0ca-b50208e98a22"
      },
      "execution_count": null,
      "outputs": [
        {
          "execution_count": 28,
          "output_type": "execute_result",
          "data": {
            "text/plain": "array([8, 9, 0, 9, 9, 2, 8, 9, 4, 4])"
          },
          "metadata": {}
        }
      ]
    },
    {
      "cell_type": "code",
      "source": [
        "predictions"
      ],
      "metadata": {
        "execution": {
          "iopub.status.busy": "2022-10-08T18:40:15.972914Z",
          "iopub.execute_input": "2022-10-08T18:40:15.973574Z",
          "iopub.status.idle": "2022-10-08T18:40:15.979778Z",
          "shell.execute_reply.started": "2022-10-08T18:40:15.973539Z",
          "shell.execute_reply": "2022-10-08T18:40:15.978712Z"
        },
        "trusted": true,
        "id": "hHUE36fMIDfq",
        "outputId": "3376b827-9cf5-4abd-d293-201bdddbf355"
      },
      "execution_count": null,
      "outputs": [
        {
          "execution_count": 29,
          "output_type": "execute_result",
          "data": {
            "text/plain": "array([8, 9, 0, 9, 9, 2, 8, 9, 4, 4])"
          },
          "metadata": {}
        }
      ]
    },
    {
      "cell_type": "code",
      "source": [
        "y_pred = np.argmax(model.predict(x_val.reshape(-1, 28, 28, 1)), axis = 1)\n",
        "prec_score = precision_score(y_val, y_pred, average = \"weighted\")\n",
        "rec_score = recall_score(y_val, y_pred, average = \"weighted\")\n",
        "f_score = f1_score(y_val, y_pred, average = \"weighted\")\n",
        "\n",
        "\n",
        "print(f\"f1_score: {f_score}\")\n",
        "print(f\"precision_score: {prec_score}\")\n",
        "print(f\"recall_score: {rec_score}\\n\")\n",
        "\n",
        "print(classification_report(y_val, y_pred))\n"
      ],
      "metadata": {
        "execution": {
          "iopub.status.busy": "2022-10-08T18:40:16.635547Z",
          "iopub.execute_input": "2022-10-08T18:40:16.635907Z",
          "iopub.status.idle": "2022-10-08T18:40:17.025862Z",
          "shell.execute_reply.started": "2022-10-08T18:40:16.635877Z",
          "shell.execute_reply": "2022-10-08T18:40:17.024844Z"
        },
        "trusted": true,
        "id": "7OQaHbKMIDfq",
        "outputId": "48b66872-111e-4765-a088-8128e6105a71"
      },
      "execution_count": null,
      "outputs": [
        {
          "name": "stdout",
          "text": "f1_score: 0.8713058344190378\nprecision_score: 0.8959915838806674\nrecall_score: 0.8735714285714286\n\n              precision    recall  f1-score   support\n\n           0       1.00      0.98      0.99       413\n           1       1.00      0.50      0.67       468\n           2       0.99      0.95      0.97       418\n           3       0.65      1.00      0.79       435\n           4       0.81      0.93      0.87       407\n           5       0.99      0.94      0.96       380\n           6       0.99      0.99      0.99       414\n           7       0.60      0.61      0.61       440\n           8       0.99      0.95      0.97       406\n           9       0.97      0.95      0.96       419\n\n    accuracy                           0.87      4200\n   macro avg       0.90      0.88      0.88      4200\nweighted avg       0.90      0.87      0.87      4200\n\n",
          "output_type": "stream"
        }
      ]
    },
    {
      "cell_type": "markdown",
      "source": [
        "### Predict on test data"
      ],
      "metadata": {
        "id": "KM0eBZZWIDfr"
      }
    },
    {
      "cell_type": "code",
      "source": [
        "# check format for submissions\n",
        "submission_data.head()"
      ],
      "metadata": {
        "execution": {
          "iopub.status.busy": "2022-10-08T18:40:24.115971Z",
          "iopub.execute_input": "2022-10-08T18:40:24.116405Z",
          "iopub.status.idle": "2022-10-08T18:40:24.127168Z",
          "shell.execute_reply.started": "2022-10-08T18:40:24.116370Z",
          "shell.execute_reply": "2022-10-08T18:40:24.126130Z"
        },
        "trusted": true,
        "id": "xEQUZOKhIDfr",
        "outputId": "ba9de873-915b-4741-edce-a7ec588a2b7b"
      },
      "execution_count": null,
      "outputs": [
        {
          "execution_count": 31,
          "output_type": "execute_result",
          "data": {
            "text/plain": "   ImageId  Label\n0        1      0\n1        2      0\n2        3      0\n3        4      0\n4        5      0",
            "text/html": "<div>\n<style scoped>\n    .dataframe tbody tr th:only-of-type {\n        vertical-align: middle;\n    }\n\n    .dataframe tbody tr th {\n        vertical-align: top;\n    }\n\n    .dataframe thead th {\n        text-align: right;\n    }\n</style>\n<table border=\"1\" class=\"dataframe\">\n  <thead>\n    <tr style=\"text-align: right;\">\n      <th></th>\n      <th>ImageId</th>\n      <th>Label</th>\n    </tr>\n  </thead>\n  <tbody>\n    <tr>\n      <th>0</th>\n      <td>1</td>\n      <td>0</td>\n    </tr>\n    <tr>\n      <th>1</th>\n      <td>2</td>\n      <td>0</td>\n    </tr>\n    <tr>\n      <th>2</th>\n      <td>3</td>\n      <td>0</td>\n    </tr>\n    <tr>\n      <th>3</th>\n      <td>4</td>\n      <td>0</td>\n    </tr>\n    <tr>\n      <th>4</th>\n      <td>5</td>\n      <td>0</td>\n    </tr>\n  </tbody>\n</table>\n</div>"
          },
          "metadata": {}
        }
      ]
    },
    {
      "cell_type": "code",
      "source": [
        "test_images = test_data.to_numpy()\n",
        "test_images = test_images.reshape(-1, 28,28, 1)\n",
        "\n",
        "test_images = test_images / 255."
      ],
      "metadata": {
        "execution": {
          "iopub.status.busy": "2022-10-08T18:40:24.334659Z",
          "iopub.execute_input": "2022-10-08T18:40:24.335566Z",
          "iopub.status.idle": "2022-10-08T18:40:24.410131Z",
          "shell.execute_reply.started": "2022-10-08T18:40:24.335518Z",
          "shell.execute_reply": "2022-10-08T18:40:24.409132Z"
        },
        "trusted": true,
        "id": "Akg-MHlfIDfr"
      },
      "execution_count": null,
      "outputs": []
    },
    {
      "cell_type": "code",
      "source": [
        "test_predictions = np.argmax(model.predict(test_images), axis = 1)"
      ],
      "metadata": {
        "execution": {
          "iopub.status.busy": "2022-10-08T18:40:24.533257Z",
          "iopub.execute_input": "2022-10-08T18:40:24.533605Z",
          "iopub.status.idle": "2022-10-08T18:40:26.473603Z",
          "shell.execute_reply.started": "2022-10-08T18:40:24.533576Z",
          "shell.execute_reply": "2022-10-08T18:40:26.472605Z"
        },
        "trusted": true,
        "id": "S1EAyhlcIDfs"
      },
      "execution_count": null,
      "outputs": []
    },
    {
      "cell_type": "code",
      "source": [
        "submission_df = pd.DataFrame({\n",
        "    \"ImageId\": range(1, len(test_predictions) + 1),\n",
        "    \"Label\": test_predictions\n",
        "})"
      ],
      "metadata": {
        "execution": {
          "iopub.status.busy": "2022-10-08T18:40:26.476542Z",
          "iopub.execute_input": "2022-10-08T18:40:26.478314Z",
          "iopub.status.idle": "2022-10-08T18:40:26.484387Z",
          "shell.execute_reply.started": "2022-10-08T18:40:26.478275Z",
          "shell.execute_reply": "2022-10-08T18:40:26.483439Z"
        },
        "trusted": true,
        "id": "OxLivMZxIDfs"
      },
      "execution_count": null,
      "outputs": []
    },
    {
      "cell_type": "code",
      "source": [
        "submission_df"
      ],
      "metadata": {
        "execution": {
          "iopub.status.busy": "2022-10-08T18:40:26.486178Z",
          "iopub.execute_input": "2022-10-08T18:40:26.486522Z",
          "iopub.status.idle": "2022-10-08T18:40:26.499135Z",
          "shell.execute_reply.started": "2022-10-08T18:40:26.486487Z",
          "shell.execute_reply": "2022-10-08T18:40:26.498137Z"
        },
        "trusted": true,
        "id": "LZVpLBgAIDft",
        "outputId": "6ed6b6c2-c938-48e3-e227-21b5d81d8ab5"
      },
      "execution_count": null,
      "outputs": [
        {
          "execution_count": 35,
          "output_type": "execute_result",
          "data": {
            "text/plain": "       ImageId  Label\n0            1      2\n1            2      0\n2            3      9\n3            4      0\n4            5      3\n...        ...    ...\n27995    27996      9\n27996    27997      7\n27997    27998      3\n27998    27999      9\n27999    28000      2\n\n[28000 rows x 2 columns]",
            "text/html": "<div>\n<style scoped>\n    .dataframe tbody tr th:only-of-type {\n        vertical-align: middle;\n    }\n\n    .dataframe tbody tr th {\n        vertical-align: top;\n    }\n\n    .dataframe thead th {\n        text-align: right;\n    }\n</style>\n<table border=\"1\" class=\"dataframe\">\n  <thead>\n    <tr style=\"text-align: right;\">\n      <th></th>\n      <th>ImageId</th>\n      <th>Label</th>\n    </tr>\n  </thead>\n  <tbody>\n    <tr>\n      <th>0</th>\n      <td>1</td>\n      <td>2</td>\n    </tr>\n    <tr>\n      <th>1</th>\n      <td>2</td>\n      <td>0</td>\n    </tr>\n    <tr>\n      <th>2</th>\n      <td>3</td>\n      <td>9</td>\n    </tr>\n    <tr>\n      <th>3</th>\n      <td>4</td>\n      <td>0</td>\n    </tr>\n    <tr>\n      <th>4</th>\n      <td>5</td>\n      <td>3</td>\n    </tr>\n    <tr>\n      <th>...</th>\n      <td>...</td>\n      <td>...</td>\n    </tr>\n    <tr>\n      <th>27995</th>\n      <td>27996</td>\n      <td>9</td>\n    </tr>\n    <tr>\n      <th>27996</th>\n      <td>27997</td>\n      <td>7</td>\n    </tr>\n    <tr>\n      <th>27997</th>\n      <td>27998</td>\n      <td>3</td>\n    </tr>\n    <tr>\n      <th>27998</th>\n      <td>27999</td>\n      <td>9</td>\n    </tr>\n    <tr>\n      <th>27999</th>\n      <td>28000</td>\n      <td>2</td>\n    </tr>\n  </tbody>\n</table>\n<p>28000 rows × 2 columns</p>\n</div>"
          },
          "metadata": {}
        }
      ]
    },
    {
      "cell_type": "code",
      "source": [
        "submission_df.to_csv(\"submission.csv\", index = False)"
      ],
      "metadata": {
        "execution": {
          "iopub.status.busy": "2022-10-08T18:40:29.203904Z",
          "iopub.execute_input": "2022-10-08T18:40:29.204596Z",
          "iopub.status.idle": "2022-10-08T18:40:29.237711Z",
          "shell.execute_reply.started": "2022-10-08T18:40:29.204558Z",
          "shell.execute_reply": "2022-10-08T18:40:29.236785Z"
        },
        "trusted": true,
        "id": "vkViHTZ2IDft"
      },
      "execution_count": null,
      "outputs": []
    },
    {
      "cell_type": "code",
      "source": [
        "check = np.argmax(model.predict(x_val.reshape(-1, 28, 28, 1)), axis = 1)"
      ],
      "metadata": {
        "execution": {
          "iopub.status.busy": "2022-10-08T18:40:32.444316Z",
          "iopub.execute_input": "2022-10-08T18:40:32.444668Z",
          "iopub.status.idle": "2022-10-08T18:40:32.807174Z",
          "shell.execute_reply.started": "2022-10-08T18:40:32.444639Z",
          "shell.execute_reply": "2022-10-08T18:40:32.806081Z"
        },
        "trusted": true,
        "id": "7iSv4hFiIDft"
      },
      "execution_count": null,
      "outputs": []
    },
    {
      "cell_type": "code",
      "source": [
        "check = test_images[500].reshape(28, 28, 1)\n",
        "\n",
        "img = array_to_img(check)\n",
        "\n",
        "plt.imshow(img)"
      ],
      "metadata": {
        "execution": {
          "iopub.status.busy": "2022-10-08T18:40:33.002788Z",
          "iopub.execute_input": "2022-10-08T18:40:33.003493Z",
          "iopub.status.idle": "2022-10-08T18:40:33.199487Z",
          "shell.execute_reply.started": "2022-10-08T18:40:33.003458Z",
          "shell.execute_reply": "2022-10-08T18:40:33.198524Z"
        },
        "trusted": true,
        "id": "ChEECwwtIDfu",
        "outputId": "a068a1f6-5422-4f6f-87d6-4ec39f056653"
      },
      "execution_count": null,
      "outputs": [
        {
          "execution_count": 38,
          "output_type": "execute_result",
          "data": {
            "text/plain": "<matplotlib.image.AxesImage at 0x7f2f5007fd90>"
          },
          "metadata": {}
        },
        {
          "output_type": "display_data",
          "data": {
            "text/plain": "<Figure size 432x288 with 1 Axes>",
            "image/png": "[encoded data removed]"
          },
          "metadata": {
            "needs_background": "light"
          }
        }
      ]
    },
    {
      "cell_type": "code",
      "source": [
        "np.argmax(model.predict(check[np.newaxis, ...]), axis = -1)"
      ],
      "metadata": {
        "execution": {
          "iopub.status.busy": "2022-10-08T18:40:35.222925Z",
          "iopub.execute_input": "2022-10-08T18:40:35.223593Z",
          "iopub.status.idle": "2022-10-08T18:40:35.310113Z",
          "shell.execute_reply.started": "2022-10-08T18:40:35.223558Z",
          "shell.execute_reply": "2022-10-08T18:40:35.309212Z"
        },
        "trusted": true,
        "id": "v29zDGmYIDfu",
        "outputId": "67c00e95-870a-450d-c4a6-51f8d8c1aecd"
      },
      "execution_count": null,
      "outputs": [
        {
          "execution_count": 39,
          "output_type": "execute_result",
          "data": {
            "text/plain": "array([6])"
          },
          "metadata": {}
        }
      ]
    },
    {
      "cell_type": "code",
      "source": [
        "len(test_predictions), len(test_images)"
      ],
      "metadata": {
        "execution": {
          "iopub.status.busy": "2022-09-21T10:07:41.963127Z",
          "iopub.execute_input": "2022-09-21T10:07:41.963499Z",
          "iopub.status.idle": "2022-09-21T10:07:41.970141Z",
          "shell.execute_reply.started": "2022-09-21T10:07:41.963466Z",
          "shell.execute_reply": "2022-09-21T10:07:41.969107Z"
        },
        "trusted": true,
        "id": "Rz-2wE8lIDfv"
      },
      "execution_count": null,
      "outputs": []
    },
    {
      "cell_type": "code",
      "source": [],
      "metadata": {
        "id": "WQI7BY9hIDfv"
      },
      "execution_count": null,
      "outputs": []
    },
    {
      "cell_type": "code",
      "source": [],
      "metadata": {
        "id": "0xsBQUrpIDfv"
      },
      "execution_count": null,
      "outputs": []
    },
    {
      "cell_type": "code",
      "source": [],
      "metadata": {
        "id": "TDPA6XopIDfw"
      },
      "execution_count": null,
      "outputs": []
    },
    {
      "cell_type": "code",
      "source": [],
      "metadata": {
        "id": "6twsF6_RIDfw"
      },
      "execution_count": null,
      "outputs": []
    },
    {
      "cell_type": "code",
      "source": [],
      "metadata": {
        "id": "tEgBuJswIDfw"
      },
      "execution_count": null,
      "outputs": []
    },
    {
      "cell_type": "code",
      "source": [],
      "metadata": {
        "id": "jRakfEOgIDfw"
      },
      "execution_count": null,
      "outputs": []
    },
    {
      "cell_type": "code",
      "source": [],
      "metadata": {
        "id": "lb7Y6QzmIDfw"
      },
      "execution_count": null,
      "outputs": []
    },
    {
      "cell_type": "code",
      "source": [],
      "metadata": {
        "id": "NQ-HdM3zIDfw"
      },
      "execution_count": null,
      "outputs": []
    },
    {
      "cell_type": "code",
      "source": [],
      "metadata": {
        "id": "CisJ38mLIDfw"
      },
      "execution_count": null,
      "outputs": []
    },
    {
      "cell_type": "code",
      "source": [],
      "metadata": {
        "id": "_GU3nr2WIDfx"
      },
      "execution_count": null,
      "outputs": []
    }
  ]
}